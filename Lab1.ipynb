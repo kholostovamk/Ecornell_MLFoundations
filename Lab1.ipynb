{
 "cells": [
  {
   "cell_type": "markdown",
   "metadata": {},
   "source": [
    "# Lab 1: Practice Working with NumPy and Pandas"
   ]
  },
  {
   "cell_type": "code",
   "execution_count": 1,
   "metadata": {},
   "outputs": [],
   "source": [
    "import pandas as pd\n",
    "import numpy as np"
   ]
  },
  {
   "cell_type": "markdown",
   "metadata": {},
   "source": [
    "In this lab you will practice working with the NumPy and Pandas packages. You will:\n",
    "\n",
    "1. Work with NumPy arrays and NumPy functions.\n",
    "2. Create Pandas DataFrames from data\n",
    "3. Use NumPy and Pandas to analyze the data\n",
    "4. Visualize the data with Matplotlib"
   ]
  },
  {
   "cell_type": "markdown",
   "metadata": {},
   "source": [
    "## Part 1. NumPy Arrays"
   ]
  },
  {
   "cell_type": "markdown",
   "metadata": {},
   "source": [
    "### a. Define a new Python *list*"
   ]
  },
  {
   "cell_type": "markdown",
   "metadata": {},
   "source": [
    "Let us practice defining a new list in Python:"
   ]
  },
  {
   "cell_type": "code",
   "execution_count": 2,
   "metadata": {},
   "outputs": [
    {
     "data": {
      "text/plain": [
       "[0, 0, 1, 2, 3, 3, 4.5, 7.6]"
      ]
     },
     "execution_count": 2,
     "metadata": {},
     "output_type": "execute_result"
    }
   ],
   "source": [
    "my_list = [0,0,1,2,3,3,4.5,7.6]\n",
    "my_list"
   ]
  },
  {
   "cell_type": "markdown",
   "metadata": {},
   "source": [
    "### b. (Two ways to) define a *range*"
   ]
  },
  {
   "cell_type": "markdown",
   "metadata": {},
   "source": [
    "One type of list is a range of (e.g., integer) numbers. Ranges are useful for iterating over in a loop -- that is, to assign some variable to take on each value in this list sequentially. (For example, `i=1`, then `i=2`, then `i=3`, etc., until `i=100`.) <br>\n",
    "\n",
    "Let's create an evenly spaced array of integers ranging from 0 to 11:"
   ]
  },
  {
   "cell_type": "code",
   "execution_count": 3,
   "metadata": {},
   "outputs": [
    {
     "data": {
      "text/plain": [
       "range(0, 12)"
      ]
     },
     "execution_count": 3,
     "metadata": {},
     "output_type": "execute_result"
    }
   ],
   "source": [
    "#First, the basic python way:\n",
    "my_range = range(0,12)\n",
    "my_range"
   ]
  },
  {
   "cell_type": "code",
   "execution_count": 4,
   "metadata": {},
   "outputs": [
    {
     "data": {
      "text/plain": [
       "array([ 0,  1,  2,  3,  4,  5,  6,  7,  8,  9, 10, 11])"
      ]
     },
     "execution_count": 4,
     "metadata": {},
     "output_type": "execute_result"
    }
   ],
   "source": [
    "#Now the numpy way:\n",
    "my_range_np = np.arange(12)\n",
    "my_range_np"
   ]
  },
  {
   "cell_type": "markdown",
   "metadata": {},
   "source": [
    "You can see that the first method returns a special 'range' object, while the latter returns an object of type 'numpy array'. If we convert both to lists, they will be the same:"
   ]
  },
  {
   "cell_type": "code",
   "execution_count": 5,
   "metadata": {},
   "outputs": [
    {
     "data": {
      "text/plain": [
       "[0, 1, 2, 3, 4, 5, 6, 7, 8, 9, 10, 11]"
      ]
     },
     "execution_count": 5,
     "metadata": {},
     "output_type": "execute_result"
    }
   ],
   "source": [
    "list(my_range)"
   ]
  },
  {
   "cell_type": "code",
   "execution_count": 6,
   "metadata": {},
   "outputs": [
    {
     "data": {
      "text/plain": [
       "[0, 1, 2, 3, 4, 5, 6, 7, 8, 9, 10, 11]"
      ]
     },
     "execution_count": 6,
     "metadata": {},
     "output_type": "execute_result"
    }
   ],
   "source": [
    "list(my_range_np)"
   ]
  },
  {
   "cell_type": "markdown",
   "metadata": {},
   "source": [
    "### c. List comprehension"
   ]
  },
  {
   "cell_type": "markdown",
   "metadata": {},
   "source": [
    "Consider the task of replacing each value in a list with its square. The traditional way of performing te same transformation on every element of a list is via a `for` loop:"
   ]
  },
  {
   "cell_type": "code",
   "execution_count": 7,
   "metadata": {},
   "outputs": [
    {
     "name": "stdout",
     "output_type": "stream",
     "text": [
      "[  0   1   4   9  16  25  36  49  64  81 100 121]\n"
     ]
    }
   ],
   "source": [
    "my_range_np = np.arange(12)\n",
    "\n",
    "for i in range(0, len(my_range_np)):\n",
    "    my_range_np[i] = my_range_np[i]**2 #square each element\n",
    "print(my_range_np)"
   ]
  },
  {
   "cell_type": "markdown",
   "metadata": {},
   "source": [
    "That worked. However, there is a better, more 'Pythonic' way to do it. <br>\n",
    "\n",
    "*List comprehension* is one of the most elegant functionalities native to Python, and is beloved by programmers like you. It offers a concise way of applying a particular transformation to every element in a list. <br>\n",
    "\n",
    "Using list comprehension syntax, we can write a single, easily interpretable line that does the same transformation without using ranges, nor do we have to introduce an iterating index variable `i`:"
   ]
  },
  {
   "cell_type": "code",
   "execution_count": 8,
   "metadata": {},
   "outputs": [
    {
     "data": {
      "text/plain": [
       "[0, 1, 4, 9, 16, 25, 36, 49, 64, 81, 100, 121]"
      ]
     },
     "execution_count": 8,
     "metadata": {},
     "output_type": "execute_result"
    }
   ],
   "source": [
    "my_range_np = np.arange(12)\n",
    "\n",
    "my_range_np = [x**2 for x in my_range_np]\n",
    "my_range_np"
   ]
  },
  {
   "cell_type": "markdown",
   "metadata": {},
   "source": [
    "### d. Creating a one-dimensional NumPy *array*. "
   ]
  },
  {
   "cell_type": "markdown",
   "metadata": {},
   "source": [
    "Let's explicitly create a one-dimensional `numpy` array (as opposed to a list):"
   ]
  },
  {
   "cell_type": "code",
   "execution_count": 9,
   "metadata": {},
   "outputs": [
    {
     "data": {
      "text/plain": [
       "array([1, 2, 3, 4])"
      ]
     },
     "execution_count": 9,
     "metadata": {},
     "output_type": "execute_result"
    }
   ],
   "source": [
    "arr = np.array([1, 2, 3, 4])\n",
    "arr"
   ]
  },
  {
   "cell_type": "markdown",
   "metadata": {},
   "source": [
    "### e.  Retrieving the dimensions of data structure:  len() and np.shape()"
   ]
  },
  {
   "cell_type": "markdown",
   "metadata": {},
   "source": [
    "How would we go about creating a variable that contains the length of our array `arr` ?<br>\n",
    "We could use the Python function ```len()```... "
   ]
  },
  {
   "cell_type": "code",
   "execution_count": 10,
   "metadata": {},
   "outputs": [
    {
     "data": {
      "text/plain": [
       "4"
      ]
     },
     "execution_count": 10,
     "metadata": {},
     "output_type": "execute_result"
    }
   ],
   "source": [
    "arr_length = len(arr)\n",
    "arr_length"
   ]
  },
  {
   "cell_type": "markdown",
   "metadata": {},
   "source": [
    "... or use the `numpy` function ```np.shape()```, saving only the first of the two values that it returns:"
   ]
  },
  {
   "cell_type": "code",
   "execution_count": 14,
   "metadata": {},
   "outputs": [
    {
     "data": {
      "text/plain": [
       "(4,)"
      ]
     },
     "execution_count": 14,
     "metadata": {},
     "output_type": "execute_result"
    }
   ],
   "source": [
    "arr_length = np.shape(arr)\n",
    "arr_length"
   ]
  },
  {
   "cell_type": "markdown",
   "metadata": {},
   "source": [
    "<b>Tip</b>: try removing the slice indicator `[0]` and see how the output changes. Notice that there appears to be an empty 'slot' for another number in the returned value pair."
   ]
  },
  {
   "cell_type": "markdown",
   "metadata": {},
   "source": [
    "### f. Creating a uniform (same value in every position) array: np.ones()"
   ]
  },
  {
   "cell_type": "markdown",
   "metadata": {},
   "source": [
    "We will now use ```np.ones()``` to create an array of a pre-specified length that contains the value '1' in each position:"
   ]
  },
  {
   "cell_type": "code",
   "execution_count": 15,
   "metadata": {},
   "outputs": [
    {
     "data": {
      "text/plain": [
       "array([1, 1, 1, 1, 1, 1, 1, 1, 1, 1, 1, 1, 1, 1, 1, 1, 1, 1, 1, 1, 1, 1,\n",
       "       1, 1, 1, 1, 1, 1, 1, 1, 1, 1, 1, 1, 1, 1, 1, 1, 1, 1, 1, 1, 1, 1,\n",
       "       1, 1, 1, 1, 1, 1, 1, 1, 1, 1, 1])"
      ]
     },
     "execution_count": 15,
     "metadata": {},
     "output_type": "execute_result"
    }
   ],
   "source": [
    "length = 55\n",
    "np.ones(length, dtype=int)"
   ]
  },
  {
   "cell_type": "markdown",
   "metadata": {},
   "source": [
    "We can use this method to create an array of any identical values. <br>\n",
    "Let's create an array of length 13, filled with the vlue '7' in every position:"
   ]
  },
  {
   "cell_type": "code",
   "execution_count": 16,
   "metadata": {},
   "outputs": [
    {
     "data": {
      "text/plain": [
       "array([7, 7, 7, 7, 7, 7, 7, 7, 7, 7, 7, 7, 7])"
      ]
     },
     "execution_count": 16,
     "metadata": {},
     "output_type": "execute_result"
    }
   ],
   "source": [
    "7*np.ones(13, dtype=int)"
   ]
  },
  {
   "cell_type": "markdown",
   "metadata": {},
   "source": [
    "### g. Creating two-dimensional arrays"
   ]
  },
  {
   "cell_type": "markdown",
   "metadata": {},
   "source": [
    "Exploring the possibilities of the ```np.array()``` function further, let's move on to creating not one- but two-dimensional arrays (aka matrices):"
   ]
  },
  {
   "cell_type": "code",
   "execution_count": 17,
   "metadata": {},
   "outputs": [
    {
     "data": {
      "text/plain": [
       "array([[1, 2, 3],\n",
       "       [4, 5, 6]])"
      ]
     },
     "execution_count": 17,
     "metadata": {},
     "output_type": "execute_result"
    }
   ],
   "source": [
    "M = np.array([[1,2,3], [4,5,6]])\n",
    "M"
   ]
  },
  {
   "cell_type": "code",
   "execution_count": 18,
   "metadata": {},
   "outputs": [
    {
     "data": {
      "text/plain": [
       "(2, 3)"
      ]
     },
     "execution_count": 18,
     "metadata": {},
     "output_type": "execute_result"
    }
   ],
   "source": [
    "np.shape(M)"
   ]
  },
  {
   "cell_type": "markdown",
   "metadata": {},
   "source": [
    "NumPy contains useful functions for creating identity matrices of a specified size:"
   ]
  },
  {
   "cell_type": "markdown",
   "metadata": {},
   "source": [
    "### h. Creating an identity matrix: np.eye()"
   ]
  },
  {
   "cell_type": "code",
   "execution_count": 19,
   "metadata": {},
   "outputs": [
    {
     "data": {
      "text/plain": [
       "array([[1., 0., 0., 0., 0.],\n",
       "       [0., 1., 0., 0., 0.],\n",
       "       [0., 0., 1., 0., 0.],\n",
       "       [0., 0., 0., 1., 0.],\n",
       "       [0., 0., 0., 0., 1.]])"
      ]
     },
     "execution_count": 19,
     "metadata": {},
     "output_type": "execute_result"
    }
   ],
   "source": [
    "np.eye(5)"
   ]
  },
  {
   "cell_type": "code",
   "execution_count": 20,
   "metadata": {},
   "outputs": [
    {
     "data": {
      "text/plain": [
       "array([[5., 0., 0.],\n",
       "       [0., 5., 0.],\n",
       "       [0., 0., 5.]])"
      ]
     },
     "execution_count": 20,
     "metadata": {},
     "output_type": "execute_result"
    }
   ],
   "source": [
    "#check your intuition: what will be the output after running this cell?\n",
    "A = np.eye(3)\n",
    "B = 4*np.eye(3)\n",
    "A+B"
   ]
  },
  {
   "cell_type": "markdown",
   "metadata": {},
   "source": [
    "### i. A small challenge:  matrix transformation and random matrix generation\n",
    "Using the matrix ```M``` below and the function ```np.triu()```. Inspect the documentation by running the command ```np.triu?``` in the cell below. Create a matrix ```N``` which is identical to ```M``` except in the lower triangle (i.e., all the cells below the diagonal). The lower triangle should be filled with zeros."
   ]
  },
  {
   "cell_type": "code",
   "execution_count": 21,
   "metadata": {},
   "outputs": [],
   "source": [
    "np.triu?"
   ]
  },
  {
   "cell_type": "code",
   "execution_count": 26,
   "metadata": {},
   "outputs": [
    {
     "name": "stdout",
     "output_type": "stream",
     "text": [
      "M=\n",
      " [[0.67 0.17 0.24 0.71 0.36]\n",
      " [0.32 0.36 0.77 0.3  0.4 ]\n",
      " [0.01 0.85 0.81 0.54 0.1 ]\n",
      " [0.85 0.14 0.49 0.7  0.78]\n",
      " [0.65 0.54 0.81 0.17 0.23]]\n",
      "N=\n",
      " [[0.67 0.17 0.24 0.71 0.36]\n",
      " [0.   0.36 0.77 0.3  0.4 ]\n",
      " [0.   0.   0.81 0.54 0.1 ]\n",
      " [0.   0.   0.   0.7  0.78]\n",
      " [0.   0.   0.   0.   0.23]]\n"
     ]
    }
   ],
   "source": [
    "M = np.round(np.random.rand(5,5),2)\n",
    "print(\"M=\\n\", M)\n",
    "\n",
    "# your code here:\n",
    "N = np.triu(M)\n",
    "print(\"N=\\n\",N)"
   ]
  },
  {
   "cell_type": "markdown",
   "metadata": {},
   "source": [
    "Using the code provided above for generating the matrix ```M```, try to figure out how to create a random matrix with 13 rows and 3 columns. <br>"
   ]
  },
  {
   "cell_type": "code",
   "execution_count": 27,
   "metadata": {},
   "outputs": [
    {
     "name": "stdout",
     "output_type": "stream",
     "text": [
      "M=\n",
      " [[0.17612676 0.80649644 0.96702546]\n",
      " [0.93896479 0.17882376 0.73688463]\n",
      " [0.07709615 0.440969   0.1962623 ]\n",
      " [0.06703329 0.38333823 0.93442992]\n",
      " [0.75016411 0.70184773 0.14258908]\n",
      " [0.29956625 0.08804708 0.83295163]\n",
      " [0.6290715  0.63678086 0.71965698]\n",
      " [0.74085597 0.34385167 0.93587761]\n",
      " [0.83495483 0.0274031  0.8277402 ]\n",
      " [0.23743072 0.25422158 0.58413473]\n",
      " [0.11065284 0.38671493 0.62860077]\n",
      " [0.27594726 0.83470893 0.17549189]\n",
      " [0.71856689 0.52837288 0.46693125]]\n"
     ]
    }
   ],
   "source": [
    "# your code here:\n",
    "M = np.random.rand(13,3)\n",
    "print(\"M=\\n\",M)\n"
   ]
  },
  {
   "cell_type": "markdown",
   "metadata": {},
   "source": [
    "### j. Indexing and slicing arrays"
   ]
  },
  {
   "cell_type": "markdown",
   "metadata": {},
   "source": [
    "Here is how to call an element of a 2D array by its location (i.e., its row index and column index):"
   ]
  },
  {
   "cell_type": "code",
   "execution_count": 28,
   "metadata": {},
   "outputs": [
    {
     "data": {
      "text/plain": [
       "0.9344299193321595"
      ]
     },
     "execution_count": 28,
     "metadata": {},
     "output_type": "execute_result"
    }
   ],
   "source": [
    "M[3,2]"
   ]
  },
  {
   "cell_type": "code",
   "execution_count": 29,
   "metadata": {},
   "outputs": [
    {
     "data": {
      "text/plain": [
       "array([0.93442992, 0.14258908, 0.83295163, 0.71965698, 0.93587761,\n",
       "       0.8277402 , 0.58413473, 0.62860077, 0.17549189, 0.46693125])"
      ]
     },
     "execution_count": 29,
     "metadata": {},
     "output_type": "execute_result"
    }
   ],
   "source": [
    "# test your intuition: what would you expect this code to return?\n",
    "M[3:,2]"
   ]
  },
  {
   "cell_type": "markdown",
   "metadata": {},
   "source": [
    "### k. Evaluating a Boolean condition"
   ]
  },
  {
   "cell_type": "markdown",
   "metadata": {},
   "source": [
    "In real-life data tasks, you will often have to compute the boolean ```(True/False)``` value of some statement, for all entries in a list, or for a matrix column (essentially, a list), or for the entire matrix. <br>\n",
    "In other words, we may want to formulate a condition -- think of it as a *test* -- and run a computation that returns `True` or `False` depending on whether the test is passed or failed by a particular value in a data structure.\n",
    "\n",
    "For example, our test may be something like \"the value is greater than 0.5\", and we would like to know if this is true or false for each of the values in a list. Here's how to compute a list of values that the condition test takes for each value of a given list:"
   ]
  },
  {
   "cell_type": "code",
   "execution_count": 30,
   "metadata": {},
   "outputs": [
    {
     "name": "stdout",
     "output_type": "stream",
     "text": [
      "[[0.3413255  0.98790183 0.68834594 0.73846421 0.52793396 0.69450383\n",
      "  0.88598525 0.06107866 0.07554916 0.65135315 0.54289112 0.78216869\n",
      "  0.5447637  0.40631568 0.89802768 0.9651375  0.97839161 0.4042257\n",
      "  0.42663733 0.8993635 ]]\n"
     ]
    }
   ],
   "source": [
    "g = np.random.rand(1, 20) #first, create the list \n",
    "print(g)"
   ]
  },
  {
   "cell_type": "code",
   "execution_count": 31,
   "metadata": {},
   "outputs": [
    {
     "name": "stdout",
     "output_type": "stream",
     "text": [
      "[[False  True  True  True  True  True  True False False  True  True  True\n",
      "   True False  True  True  True False False  True]]\n"
     ]
    }
   ],
   "source": [
    "is_greater = g>0.5\n",
    "print(is_greater)"
   ]
  },
  {
   "cell_type": "code",
   "execution_count": 32,
   "metadata": {},
   "outputs": [
    {
     "name": "stdout",
     "output_type": "stream",
     "text": [
      "[[0.17612676 0.80649644 0.96702546]\n",
      " [0.93896479 0.17882376 0.73688463]\n",
      " [0.07709615 0.440969   0.1962623 ]\n",
      " [0.06703329 0.38333823 0.93442992]\n",
      " [0.75016411 0.70184773 0.14258908]\n",
      " [0.29956625 0.08804708 0.83295163]\n",
      " [0.6290715  0.63678086 0.71965698]\n",
      " [0.74085597 0.34385167 0.93587761]\n",
      " [0.83495483 0.0274031  0.8277402 ]\n",
      " [0.23743072 0.25422158 0.58413473]\n",
      " [0.11065284 0.38671493 0.62860077]\n",
      " [0.27594726 0.83470893 0.17549189]\n",
      " [0.71856689 0.52837288 0.46693125]]\n"
     ]
    }
   ],
   "source": [
    "# Let's print the matrix M again so we can glance at it for our next exercise\n",
    "print(M)"
   ]
  },
  {
   "cell_type": "code",
   "execution_count": 33,
   "metadata": {},
   "outputs": [
    {
     "data": {
      "text/plain": [
       "array([ True, False, False, False,  True, False,  True, False, False,\n",
       "       False, False,  True,  True])"
      ]
     },
     "execution_count": 33,
     "metadata": {},
     "output_type": "execute_result"
    }
   ],
   "source": [
    "# What would you expect to see once you run the code below?\n",
    "c_is_greater = M[:,1]>0.5\n",
    "c_is_greater"
   ]
  },
  {
   "cell_type": "markdown",
   "metadata": {},
   "source": [
    "### L . NumPy Functions `np.any()`, `np.unique() `"
   ]
  },
  {
   "cell_type": "markdown",
   "metadata": {},
   "source": [
    "We can use ```np.any()``` to determine if there is any entry in column 1 that is smaller than 0.1:"
   ]
  },
  {
   "cell_type": "code",
   "execution_count": 34,
   "metadata": {},
   "outputs": [
    {
     "data": {
      "text/plain": [
       "True"
      ]
     },
     "execution_count": 34,
     "metadata": {},
     "output_type": "execute_result"
    }
   ],
   "source": [
    "c_is_smaller = M[:,1]<0.1\n",
    "np.any(c_is_smaller)"
   ]
  },
  {
   "cell_type": "markdown",
   "metadata": {},
   "source": [
    "A small challenge:<br>\n",
    "You have birthday data for a cohort of 100 people all born in 1990.\n",
    "Given the one-dimensional array of birthdays ```random_bdays``` generated below, figure out if there exists a pair of people who share a birthday.<br>\n",
    "\n",
    "<b>Tip</b>: you may find the function ```np.unique()``` useful. Feel free to read up on it by running the command `np.unique?` in a new cell."
   ]
  },
  {
   "cell_type": "code",
   "execution_count": 44,
   "metadata": {},
   "outputs": [
    {
     "name": "stdout",
     "output_type": "stream",
     "text": [
      "['1990-01-09' '1990-01-31' '1990-02-03' '1990-03-18' '1990-06-30'\n",
      " '1990-07-30' '1990-08-14' '1990-08-26' '1990-09-08' '1990-10-17'\n",
      " '1990-10-28' '1990-11-03' '1990-11-10' '1990-12-14']\n"
     ]
    }
   ],
   "source": [
    "# do not edit this code:\n",
    "random_nums = np.random.choice(365, size = 100)\n",
    "random_bdays = np.datetime64('1990-01-01') + random_nums\n",
    "\n",
    "## your code here:\n",
    "u, c = np.unique(random_bdays, return_counts=True)\n",
    "duplicates_exist = u[c > 1]\n",
    "print(duplicates_exist)"
   ]
  },
  {
   "cell_type": "markdown",
   "metadata": {},
   "source": [
    "## Part 2. Pandas DataFrames"
   ]
  },
  {
   "cell_type": "markdown",
   "metadata": {},
   "source": [
    "### a. Creating a DataFrame: two (of the many) ways"
   ]
  },
  {
   "cell_type": "markdown",
   "metadata": {},
   "source": [
    "The code cells below demonstrate how we can create Pandas DataFrames from scratch: from a *list of lists*, and from a *dictionary*. First, the cell below creates a DataFrame from a list containing phone numbers and their country codes. The DataFrame is named `df`. Run the cell below to inspect the DataFrame `df` that was created."
   ]
  },
  {
   "cell_type": "code",
   "execution_count": 45,
   "metadata": {},
   "outputs": [
    {
     "data": {
      "text/html": [
       "<div>\n",
       "<style scoped>\n",
       "    .dataframe tbody tr th:only-of-type {\n",
       "        vertical-align: middle;\n",
       "    }\n",
       "\n",
       "    .dataframe tbody tr th {\n",
       "        vertical-align: top;\n",
       "    }\n",
       "\n",
       "    .dataframe thead th {\n",
       "        text-align: right;\n",
       "    }\n",
       "</style>\n",
       "<table border=\"1\" class=\"dataframe\">\n",
       "  <thead>\n",
       "    <tr style=\"text-align: right;\">\n",
       "      <th></th>\n",
       "      <th>country_code</th>\n",
       "      <th>phone</th>\n",
       "    </tr>\n",
       "  </thead>\n",
       "  <tbody>\n",
       "    <tr>\n",
       "      <th>0</th>\n",
       "      <td>+1</td>\n",
       "      <td>(929)-000-0000</td>\n",
       "    </tr>\n",
       "    <tr>\n",
       "      <th>1</th>\n",
       "      <td>+34</td>\n",
       "      <td>(917)-000-0000</td>\n",
       "    </tr>\n",
       "    <tr>\n",
       "      <th>2</th>\n",
       "      <td>+7</td>\n",
       "      <td>(470)-000-0000</td>\n",
       "    </tr>\n",
       "  </tbody>\n",
       "</table>\n",
       "</div>"
      ],
      "text/plain": [
       "  country_code           phone\n",
       "0           +1  (929)-000-0000\n",
       "1          +34  (917)-000-0000\n",
       "2           +7  (470)-000-0000"
      ]
     },
     "execution_count": 45,
     "metadata": {},
     "output_type": "execute_result"
    }
   ],
   "source": [
    "my_list = [['+1', '(929)-000-0000'], ['+34', '(917)-000-0000'], ['+7', '(470)-000-0000']]\n",
    "df = pd.DataFrame(my_list, columns = ['country_code', 'phone'])\n",
    "df"
   ]
  },
  {
   "cell_type": "markdown",
   "metadata": {},
   "source": [
    "Second, the cell below creates a DataFrame from a dictionary that contains the same information as the list above. The dictionary contains phone numbers and their country codes. Run the cell below to inspect the DataFrame `df_from_dict` that was created from the dictionary. Notice that both DataFrames `df` and `df_from_dict` contain the same values."
   ]
  },
  {
   "cell_type": "code",
   "execution_count": 46,
   "metadata": {},
   "outputs": [
    {
     "data": {
      "text/html": [
       "<div>\n",
       "<style scoped>\n",
       "    .dataframe tbody tr th:only-of-type {\n",
       "        vertical-align: middle;\n",
       "    }\n",
       "\n",
       "    .dataframe tbody tr th {\n",
       "        vertical-align: top;\n",
       "    }\n",
       "\n",
       "    .dataframe thead th {\n",
       "        text-align: right;\n",
       "    }\n",
       "</style>\n",
       "<table border=\"1\" class=\"dataframe\">\n",
       "  <thead>\n",
       "    <tr style=\"text-align: right;\">\n",
       "      <th></th>\n",
       "      <th>country_code</th>\n",
       "      <th>phone</th>\n",
       "    </tr>\n",
       "  </thead>\n",
       "  <tbody>\n",
       "    <tr>\n",
       "      <th>0</th>\n",
       "      <td>+1</td>\n",
       "      <td>(929)-000-0000</td>\n",
       "    </tr>\n",
       "    <tr>\n",
       "      <th>1</th>\n",
       "      <td>+34</td>\n",
       "      <td>(917)-000-0000</td>\n",
       "    </tr>\n",
       "    <tr>\n",
       "      <th>2</th>\n",
       "      <td>+7</td>\n",
       "      <td>(470)-000-0000</td>\n",
       "    </tr>\n",
       "  </tbody>\n",
       "</table>\n",
       "</div>"
      ],
      "text/plain": [
       "  country_code           phone\n",
       "0           +1  (929)-000-0000\n",
       "1          +34  (917)-000-0000\n",
       "2           +7  (470)-000-0000"
      ]
     },
     "execution_count": 46,
     "metadata": {},
     "output_type": "execute_result"
    }
   ],
   "source": [
    "my_dict = {'country_code': ['+1', '+34', '+7'], 'phone':['(929)-000-0000', '(917)-000-0000', '(470)-000-0000']}\n",
    "df_from_dict = pd.DataFrame(my_dict)\n",
    "df_from_dict"
   ]
  },
  {
   "cell_type": "markdown",
   "metadata": {},
   "source": [
    "### b. Adding a column to a DataFrame object"
   ]
  },
  {
   "cell_type": "markdown",
   "metadata": {},
   "source": [
    "We are going to continue working with the DataFrame `df` that was created above. In the code cell below, we add a new column of values to DataFrame `df`. Run the cell and inspect the DataFrame to see the new column that was added."
   ]
  },
  {
   "cell_type": "code",
   "execution_count": 47,
   "metadata": {},
   "outputs": [
    {
     "data": {
      "text/html": [
       "<div>\n",
       "<style scoped>\n",
       "    .dataframe tbody tr th:only-of-type {\n",
       "        vertical-align: middle;\n",
       "    }\n",
       "\n",
       "    .dataframe tbody tr th {\n",
       "        vertical-align: top;\n",
       "    }\n",
       "\n",
       "    .dataframe thead th {\n",
       "        text-align: right;\n",
       "    }\n",
       "</style>\n",
       "<table border=\"1\" class=\"dataframe\">\n",
       "  <thead>\n",
       "    <tr style=\"text-align: right;\">\n",
       "      <th></th>\n",
       "      <th>country_code</th>\n",
       "      <th>phone</th>\n",
       "      <th>grade</th>\n",
       "    </tr>\n",
       "  </thead>\n",
       "  <tbody>\n",
       "    <tr>\n",
       "      <th>0</th>\n",
       "      <td>+1</td>\n",
       "      <td>(929)-000-0000</td>\n",
       "      <td>A</td>\n",
       "    </tr>\n",
       "    <tr>\n",
       "      <th>1</th>\n",
       "      <td>+34</td>\n",
       "      <td>(917)-000-0000</td>\n",
       "      <td>B</td>\n",
       "    </tr>\n",
       "    <tr>\n",
       "      <th>2</th>\n",
       "      <td>+7</td>\n",
       "      <td>(470)-000-0000</td>\n",
       "      <td>A</td>\n",
       "    </tr>\n",
       "  </tbody>\n",
       "</table>\n",
       "</div>"
      ],
      "text/plain": [
       "  country_code           phone grade\n",
       "0           +1  (929)-000-0000     A\n",
       "1          +34  (917)-000-0000     B\n",
       "2           +7  (470)-000-0000     A"
      ]
     },
     "execution_count": 47,
     "metadata": {},
     "output_type": "execute_result"
    }
   ],
   "source": [
    "df['grade']= ['A','B','A']\n",
    "df"
   ]
  },
  {
   "cell_type": "markdown",
   "metadata": {},
   "source": [
    "### c. Sorting the DataFrame by values in a specific column: `df.sort_values()`"
   ]
  },
  {
   "cell_type": "code",
   "execution_count": 48,
   "metadata": {},
   "outputs": [
    {
     "data": {
      "text/html": [
       "<div>\n",
       "<style scoped>\n",
       "    .dataframe tbody tr th:only-of-type {\n",
       "        vertical-align: middle;\n",
       "    }\n",
       "\n",
       "    .dataframe tbody tr th {\n",
       "        vertical-align: top;\n",
       "    }\n",
       "\n",
       "    .dataframe thead th {\n",
       "        text-align: right;\n",
       "    }\n",
       "</style>\n",
       "<table border=\"1\" class=\"dataframe\">\n",
       "  <thead>\n",
       "    <tr style=\"text-align: right;\">\n",
       "      <th></th>\n",
       "      <th>country_code</th>\n",
       "      <th>phone</th>\n",
       "      <th>grade</th>\n",
       "    </tr>\n",
       "  </thead>\n",
       "  <tbody>\n",
       "    <tr>\n",
       "      <th>0</th>\n",
       "      <td>+1</td>\n",
       "      <td>(929)-000-0000</td>\n",
       "      <td>A</td>\n",
       "    </tr>\n",
       "    <tr>\n",
       "      <th>2</th>\n",
       "      <td>+7</td>\n",
       "      <td>(470)-000-0000</td>\n",
       "      <td>A</td>\n",
       "    </tr>\n",
       "    <tr>\n",
       "      <th>1</th>\n",
       "      <td>+34</td>\n",
       "      <td>(917)-000-0000</td>\n",
       "      <td>B</td>\n",
       "    </tr>\n",
       "  </tbody>\n",
       "</table>\n",
       "</div>"
      ],
      "text/plain": [
       "  country_code           phone grade\n",
       "0           +1  (929)-000-0000     A\n",
       "2           +7  (470)-000-0000     A\n",
       "1          +34  (917)-000-0000     B"
      ]
     },
     "execution_count": 48,
     "metadata": {},
     "output_type": "execute_result"
    }
   ],
   "source": [
    "df = df.sort_values(['grade'])\n",
    "df"
   ]
  },
  {
   "cell_type": "markdown",
   "metadata": {},
   "source": [
    "### d. Combining multiple DataFrames with `pd.concat()` and `pd.merge()` and renaming  columns with `df.rename()`"
   ]
  },
  {
   "cell_type": "markdown",
   "metadata": {},
   "source": [
    "In real life settings, you will often need to combine separate sets of related data.<br>\n",
    "To illustrate, let's create a new DataFrame. The code cell below creates a new DataFrame `df2` that also contains phone numbers, their country codes and a grade. Run the cell and inspect the new DataFrame that was created."
   ]
  },
  {
   "cell_type": "code",
   "execution_count": 49,
   "metadata": {},
   "outputs": [
    {
     "data": {
      "text/html": [
       "<div>\n",
       "<style scoped>\n",
       "    .dataframe tbody tr th:only-of-type {\n",
       "        vertical-align: middle;\n",
       "    }\n",
       "\n",
       "    .dataframe tbody tr th {\n",
       "        vertical-align: top;\n",
       "    }\n",
       "\n",
       "    .dataframe thead th {\n",
       "        text-align: right;\n",
       "    }\n",
       "</style>\n",
       "<table border=\"1\" class=\"dataframe\">\n",
       "  <thead>\n",
       "    <tr style=\"text-align: right;\">\n",
       "      <th></th>\n",
       "      <th>country</th>\n",
       "      <th>grade</th>\n",
       "      <th>phone</th>\n",
       "    </tr>\n",
       "  </thead>\n",
       "  <tbody>\n",
       "    <tr>\n",
       "      <th>0</th>\n",
       "      <td>+32</td>\n",
       "      <td>B</td>\n",
       "      <td>(874)-444-0000</td>\n",
       "    </tr>\n",
       "    <tr>\n",
       "      <th>1</th>\n",
       "      <td>+81</td>\n",
       "      <td>B+</td>\n",
       "      <td>(313)-003-1000</td>\n",
       "    </tr>\n",
       "    <tr>\n",
       "      <th>2</th>\n",
       "      <td>+11</td>\n",
       "      <td>A</td>\n",
       "      <td>(990)-006-0660</td>\n",
       "    </tr>\n",
       "  </tbody>\n",
       "</table>\n",
       "</div>"
      ],
      "text/plain": [
       "  country grade           phone\n",
       "0     +32     B  (874)-444-0000\n",
       "1     +81    B+  (313)-003-1000\n",
       "2     +11     A  (990)-006-0660"
      ]
     },
     "execution_count": 49,
     "metadata": {},
     "output_type": "execute_result"
    }
   ],
   "source": [
    "my_dict2 = {'country': ['+32', '+81', '+11'], 'grade':['B', 'B+', 'A'], 'phone':['(874)-444-0000', '(313)-003-1000', '(990)-006-0660']}\n",
    "df2 = pd.DataFrame(my_dict2)\n",
    "df2"
   ]
  },
  {
   "cell_type": "markdown",
   "metadata": {},
   "source": [
    "The code cell below uses the Pandas ```pd.concat()``` function to append the second DataFrame to the first one. It saves the newly formed DataFrame to variable `df_concat`. Note that the `pd.concat()` function will not change the values in the original DataFrames."
   ]
  },
  {
   "cell_type": "code",
   "execution_count": 50,
   "metadata": {},
   "outputs": [
    {
     "data": {
      "text/html": [
       "<div>\n",
       "<style scoped>\n",
       "    .dataframe tbody tr th:only-of-type {\n",
       "        vertical-align: middle;\n",
       "    }\n",
       "\n",
       "    .dataframe tbody tr th {\n",
       "        vertical-align: top;\n",
       "    }\n",
       "\n",
       "    .dataframe thead th {\n",
       "        text-align: right;\n",
       "    }\n",
       "</style>\n",
       "<table border=\"1\" class=\"dataframe\">\n",
       "  <thead>\n",
       "    <tr style=\"text-align: right;\">\n",
       "      <th></th>\n",
       "      <th>country_code</th>\n",
       "      <th>phone</th>\n",
       "      <th>grade</th>\n",
       "      <th>country</th>\n",
       "    </tr>\n",
       "  </thead>\n",
       "  <tbody>\n",
       "    <tr>\n",
       "      <th>0</th>\n",
       "      <td>+1</td>\n",
       "      <td>(929)-000-0000</td>\n",
       "      <td>A</td>\n",
       "      <td>NaN</td>\n",
       "    </tr>\n",
       "    <tr>\n",
       "      <th>2</th>\n",
       "      <td>+7</td>\n",
       "      <td>(470)-000-0000</td>\n",
       "      <td>A</td>\n",
       "      <td>NaN</td>\n",
       "    </tr>\n",
       "    <tr>\n",
       "      <th>1</th>\n",
       "      <td>+34</td>\n",
       "      <td>(917)-000-0000</td>\n",
       "      <td>B</td>\n",
       "      <td>NaN</td>\n",
       "    </tr>\n",
       "    <tr>\n",
       "      <th>0</th>\n",
       "      <td>NaN</td>\n",
       "      <td>(874)-444-0000</td>\n",
       "      <td>B</td>\n",
       "      <td>+32</td>\n",
       "    </tr>\n",
       "    <tr>\n",
       "      <th>1</th>\n",
       "      <td>NaN</td>\n",
       "      <td>(313)-003-1000</td>\n",
       "      <td>B+</td>\n",
       "      <td>+81</td>\n",
       "    </tr>\n",
       "    <tr>\n",
       "      <th>2</th>\n",
       "      <td>NaN</td>\n",
       "      <td>(990)-006-0660</td>\n",
       "      <td>A</td>\n",
       "      <td>+11</td>\n",
       "    </tr>\n",
       "  </tbody>\n",
       "</table>\n",
       "</div>"
      ],
      "text/plain": [
       "  country_code           phone grade country\n",
       "0           +1  (929)-000-0000     A     NaN\n",
       "2           +7  (470)-000-0000     A     NaN\n",
       "1          +34  (917)-000-0000     B     NaN\n",
       "0          NaN  (874)-444-0000     B     +32\n",
       "1          NaN  (313)-003-1000    B+     +81\n",
       "2          NaN  (990)-006-0660     A     +11"
      ]
     },
     "execution_count": 50,
     "metadata": {},
     "output_type": "execute_result"
    }
   ],
   "source": [
    "df_concat = pd.concat([df,df2])\n",
    "df_concat"
   ]
  },
  {
   "cell_type": "markdown",
   "metadata": {},
   "source": [
    "Notice that the new DataFrame contains redundancy caused by the different spelling of the column names that contain the country code in the two original DataFrames. This can be easily fixed. The code cell below changes the name of the column in DataFrame `df2` to be consistent with the name of the column in DataFrame `df`."
   ]
  },
  {
   "cell_type": "code",
   "execution_count": 51,
   "metadata": {},
   "outputs": [
    {
     "data": {
      "text/html": [
       "<div>\n",
       "<style scoped>\n",
       "    .dataframe tbody tr th:only-of-type {\n",
       "        vertical-align: middle;\n",
       "    }\n",
       "\n",
       "    .dataframe tbody tr th {\n",
       "        vertical-align: top;\n",
       "    }\n",
       "\n",
       "    .dataframe thead th {\n",
       "        text-align: right;\n",
       "    }\n",
       "</style>\n",
       "<table border=\"1\" class=\"dataframe\">\n",
       "  <thead>\n",
       "    <tr style=\"text-align: right;\">\n",
       "      <th></th>\n",
       "      <th>country_code</th>\n",
       "      <th>grade</th>\n",
       "      <th>phone</th>\n",
       "    </tr>\n",
       "  </thead>\n",
       "  <tbody>\n",
       "    <tr>\n",
       "      <th>0</th>\n",
       "      <td>+32</td>\n",
       "      <td>B</td>\n",
       "      <td>(874)-444-0000</td>\n",
       "    </tr>\n",
       "    <tr>\n",
       "      <th>1</th>\n",
       "      <td>+81</td>\n",
       "      <td>B+</td>\n",
       "      <td>(313)-003-1000</td>\n",
       "    </tr>\n",
       "    <tr>\n",
       "      <th>2</th>\n",
       "      <td>+11</td>\n",
       "      <td>A</td>\n",
       "      <td>(990)-006-0660</td>\n",
       "    </tr>\n",
       "  </tbody>\n",
       "</table>\n",
       "</div>"
      ],
      "text/plain": [
       "  country_code grade           phone\n",
       "0          +32     B  (874)-444-0000\n",
       "1          +81    B+  (313)-003-1000\n",
       "2          +11     A  (990)-006-0660"
      ]
     },
     "execution_count": 51,
     "metadata": {},
     "output_type": "execute_result"
    }
   ],
   "source": [
    "df2 = df2.rename(columns={'country':'country_code'})\n",
    "df2"
   ]
  },
  {
   "cell_type": "markdown",
   "metadata": {},
   "source": [
    "<b>Task</b>: In the cell below, run the `pd.concat()` function again to concatenate DataFrames `df` and `df2` and save the resulting DataFrame to variable `df_concat`. Run the cell and inpect the results."
   ]
  },
  {
   "cell_type": "code",
   "execution_count": 52,
   "metadata": {},
   "outputs": [
    {
     "data": {
      "text/html": [
       "<div>\n",
       "<style scoped>\n",
       "    .dataframe tbody tr th:only-of-type {\n",
       "        vertical-align: middle;\n",
       "    }\n",
       "\n",
       "    .dataframe tbody tr th {\n",
       "        vertical-align: top;\n",
       "    }\n",
       "\n",
       "    .dataframe thead th {\n",
       "        text-align: right;\n",
       "    }\n",
       "</style>\n",
       "<table border=\"1\" class=\"dataframe\">\n",
       "  <thead>\n",
       "    <tr style=\"text-align: right;\">\n",
       "      <th></th>\n",
       "      <th>country_code</th>\n",
       "      <th>phone</th>\n",
       "      <th>grade</th>\n",
       "    </tr>\n",
       "  </thead>\n",
       "  <tbody>\n",
       "    <tr>\n",
       "      <th>0</th>\n",
       "      <td>+1</td>\n",
       "      <td>(929)-000-0000</td>\n",
       "      <td>A</td>\n",
       "    </tr>\n",
       "    <tr>\n",
       "      <th>2</th>\n",
       "      <td>+7</td>\n",
       "      <td>(470)-000-0000</td>\n",
       "      <td>A</td>\n",
       "    </tr>\n",
       "    <tr>\n",
       "      <th>1</th>\n",
       "      <td>+34</td>\n",
       "      <td>(917)-000-0000</td>\n",
       "      <td>B</td>\n",
       "    </tr>\n",
       "    <tr>\n",
       "      <th>0</th>\n",
       "      <td>+32</td>\n",
       "      <td>(874)-444-0000</td>\n",
       "      <td>B</td>\n",
       "    </tr>\n",
       "    <tr>\n",
       "      <th>1</th>\n",
       "      <td>+81</td>\n",
       "      <td>(313)-003-1000</td>\n",
       "      <td>B+</td>\n",
       "    </tr>\n",
       "    <tr>\n",
       "      <th>2</th>\n",
       "      <td>+11</td>\n",
       "      <td>(990)-006-0660</td>\n",
       "      <td>A</td>\n",
       "    </tr>\n",
       "  </tbody>\n",
       "</table>\n",
       "</div>"
      ],
      "text/plain": [
       "  country_code           phone grade\n",
       "0           +1  (929)-000-0000     A\n",
       "2           +7  (470)-000-0000     A\n",
       "1          +34  (917)-000-0000     B\n",
       "0          +32  (874)-444-0000     B\n",
       "1          +81  (313)-003-1000    B+\n",
       "2          +11  (990)-006-0660     A"
      ]
     },
     "execution_count": 52,
     "metadata": {},
     "output_type": "execute_result"
    }
   ],
   "source": [
    "df_concat = pd.concat([df,df2])\n",
    "df_concat"
   ]
  },
  {
   "cell_type": "markdown",
   "metadata": {},
   "source": [
    "One other problem is that the index has repeated values. This defeats the purpose of an index, and ought to be fixed. Let's try the concatenation again, this time adding `reset_index()` method to produce correct results:"
   ]
  },
  {
   "cell_type": "code",
   "execution_count": 53,
   "metadata": {},
   "outputs": [
    {
     "data": {
      "text/html": [
       "<div>\n",
       "<style scoped>\n",
       "    .dataframe tbody tr th:only-of-type {\n",
       "        vertical-align: middle;\n",
       "    }\n",
       "\n",
       "    .dataframe tbody tr th {\n",
       "        vertical-align: top;\n",
       "    }\n",
       "\n",
       "    .dataframe thead th {\n",
       "        text-align: right;\n",
       "    }\n",
       "</style>\n",
       "<table border=\"1\" class=\"dataframe\">\n",
       "  <thead>\n",
       "    <tr style=\"text-align: right;\">\n",
       "      <th></th>\n",
       "      <th>index</th>\n",
       "      <th>country_code</th>\n",
       "      <th>phone</th>\n",
       "      <th>grade</th>\n",
       "    </tr>\n",
       "  </thead>\n",
       "  <tbody>\n",
       "    <tr>\n",
       "      <th>0</th>\n",
       "      <td>0</td>\n",
       "      <td>+1</td>\n",
       "      <td>(929)-000-0000</td>\n",
       "      <td>A</td>\n",
       "    </tr>\n",
       "    <tr>\n",
       "      <th>1</th>\n",
       "      <td>2</td>\n",
       "      <td>+7</td>\n",
       "      <td>(470)-000-0000</td>\n",
       "      <td>A</td>\n",
       "    </tr>\n",
       "    <tr>\n",
       "      <th>2</th>\n",
       "      <td>1</td>\n",
       "      <td>+34</td>\n",
       "      <td>(917)-000-0000</td>\n",
       "      <td>B</td>\n",
       "    </tr>\n",
       "    <tr>\n",
       "      <th>3</th>\n",
       "      <td>0</td>\n",
       "      <td>+32</td>\n",
       "      <td>(874)-444-0000</td>\n",
       "      <td>B</td>\n",
       "    </tr>\n",
       "    <tr>\n",
       "      <th>4</th>\n",
       "      <td>1</td>\n",
       "      <td>+81</td>\n",
       "      <td>(313)-003-1000</td>\n",
       "      <td>B+</td>\n",
       "    </tr>\n",
       "    <tr>\n",
       "      <th>5</th>\n",
       "      <td>2</td>\n",
       "      <td>+11</td>\n",
       "      <td>(990)-006-0660</td>\n",
       "      <td>A</td>\n",
       "    </tr>\n",
       "  </tbody>\n",
       "</table>\n",
       "</div>"
      ],
      "text/plain": [
       "   index country_code           phone grade\n",
       "0      0           +1  (929)-000-0000     A\n",
       "1      2           +7  (470)-000-0000     A\n",
       "2      1          +34  (917)-000-0000     B\n",
       "3      0          +32  (874)-444-0000     B\n",
       "4      1          +81  (313)-003-1000    B+\n",
       "5      2          +11  (990)-006-0660     A"
      ]
     },
     "execution_count": 53,
     "metadata": {},
     "output_type": "execute_result"
    }
   ],
   "source": [
    "df_concat = pd.concat([df,df2]).reset_index()\n",
    "df_concat"
   ]
  },
  {
   "cell_type": "markdown",
   "metadata": {},
   "source": [
    "What if our task was to merge ```df2``` with yet another dataset -- one that contains additional unique columns? Let's look at DataFrame `df2` again:"
   ]
  },
  {
   "cell_type": "code",
   "execution_count": 54,
   "metadata": {},
   "outputs": [
    {
     "data": {
      "text/html": [
       "<div>\n",
       "<style scoped>\n",
       "    .dataframe tbody tr th:only-of-type {\n",
       "        vertical-align: middle;\n",
       "    }\n",
       "\n",
       "    .dataframe tbody tr th {\n",
       "        vertical-align: top;\n",
       "    }\n",
       "\n",
       "    .dataframe thead th {\n",
       "        text-align: right;\n",
       "    }\n",
       "</style>\n",
       "<table border=\"1\" class=\"dataframe\">\n",
       "  <thead>\n",
       "    <tr style=\"text-align: right;\">\n",
       "      <th></th>\n",
       "      <th>country_code</th>\n",
       "      <th>grade</th>\n",
       "      <th>phone</th>\n",
       "    </tr>\n",
       "  </thead>\n",
       "  <tbody>\n",
       "    <tr>\n",
       "      <th>0</th>\n",
       "      <td>+32</td>\n",
       "      <td>B</td>\n",
       "      <td>(874)-444-0000</td>\n",
       "    </tr>\n",
       "    <tr>\n",
       "      <th>1</th>\n",
       "      <td>+81</td>\n",
       "      <td>B+</td>\n",
       "      <td>(313)-003-1000</td>\n",
       "    </tr>\n",
       "    <tr>\n",
       "      <th>2</th>\n",
       "      <td>+11</td>\n",
       "      <td>A</td>\n",
       "      <td>(990)-006-0660</td>\n",
       "    </tr>\n",
       "  </tbody>\n",
       "</table>\n",
       "</div>"
      ],
      "text/plain": [
       "  country_code grade           phone\n",
       "0          +32     B  (874)-444-0000\n",
       "1          +81    B+  (313)-003-1000\n",
       "2          +11     A  (990)-006-0660"
      ]
     },
     "execution_count": 54,
     "metadata": {},
     "output_type": "execute_result"
    }
   ],
   "source": [
    "df2"
   ]
  },
  {
   "cell_type": "markdown",
   "metadata": {},
   "source": [
    "The code cell below creates a new DataFrame `df3`."
   ]
  },
  {
   "cell_type": "code",
   "execution_count": 55,
   "metadata": {},
   "outputs": [
    {
     "data": {
      "text/html": [
       "<div>\n",
       "<style scoped>\n",
       "    .dataframe tbody tr th:only-of-type {\n",
       "        vertical-align: middle;\n",
       "    }\n",
       "\n",
       "    .dataframe tbody tr th {\n",
       "        vertical-align: top;\n",
       "    }\n",
       "\n",
       "    .dataframe thead th {\n",
       "        text-align: right;\n",
       "    }\n",
       "</style>\n",
       "<table border=\"1\" class=\"dataframe\">\n",
       "  <thead>\n",
       "    <tr style=\"text-align: right;\">\n",
       "      <th></th>\n",
       "      <th>country_code</th>\n",
       "      <th>phone</th>\n",
       "      <th>grade</th>\n",
       "      <th>n_credits</th>\n",
       "    </tr>\n",
       "  </thead>\n",
       "  <tbody>\n",
       "    <tr>\n",
       "      <th>0</th>\n",
       "      <td>+32</td>\n",
       "      <td>(874)-444-0000</td>\n",
       "      <td>B</td>\n",
       "      <td>12</td>\n",
       "    </tr>\n",
       "    <tr>\n",
       "      <th>1</th>\n",
       "      <td>+44</td>\n",
       "      <td>(575)-755-1000</td>\n",
       "      <td>B+</td>\n",
       "      <td>3</td>\n",
       "    </tr>\n",
       "    <tr>\n",
       "      <th>2</th>\n",
       "      <td>+11</td>\n",
       "      <td>(990)-006-0660</td>\n",
       "      <td>A</td>\n",
       "      <td>9</td>\n",
       "    </tr>\n",
       "  </tbody>\n",
       "</table>\n",
       "</div>"
      ],
      "text/plain": [
       "  country_code           phone grade  n_credits\n",
       "0          +32  (874)-444-0000     B         12\n",
       "1          +44  (575)-755-1000    B+          3\n",
       "2          +11  (990)-006-0660     A          9"
      ]
     },
     "execution_count": 55,
     "metadata": {},
     "output_type": "execute_result"
    }
   ],
   "source": [
    "my_dict3 = {'country_code': ['+32', '+44', '+11'], 'phone':['(874)-444-0000', '(575)-755-1000', '(990)-006-0660'], 'grade':['B', 'B+', 'A'], 'n_credits': [12, 3, 9]}\n",
    "df3 = pd.DataFrame(my_dict3)\n",
    "df3"
   ]
  },
  {
   "cell_type": "markdown",
   "metadata": {},
   "source": [
    "The next cell merges both DataFrames and applies the change to DataFrame `df2`. Feel free to consult the definition of the Pandas ```merge()``` method to better undertsand how `merge()` works."
   ]
  },
  {
   "cell_type": "code",
   "execution_count": 56,
   "metadata": {},
   "outputs": [
    {
     "data": {
      "text/html": [
       "<div>\n",
       "<style scoped>\n",
       "    .dataframe tbody tr th:only-of-type {\n",
       "        vertical-align: middle;\n",
       "    }\n",
       "\n",
       "    .dataframe tbody tr th {\n",
       "        vertical-align: top;\n",
       "    }\n",
       "\n",
       "    .dataframe thead th {\n",
       "        text-align: right;\n",
       "    }\n",
       "</style>\n",
       "<table border=\"1\" class=\"dataframe\">\n",
       "  <thead>\n",
       "    <tr style=\"text-align: right;\">\n",
       "      <th></th>\n",
       "      <th>country_code_x</th>\n",
       "      <th>grade_x</th>\n",
       "      <th>phone</th>\n",
       "      <th>country_code_y</th>\n",
       "      <th>grade_y</th>\n",
       "      <th>n_credits</th>\n",
       "    </tr>\n",
       "  </thead>\n",
       "  <tbody>\n",
       "    <tr>\n",
       "      <th>0</th>\n",
       "      <td>+32</td>\n",
       "      <td>B</td>\n",
       "      <td>(874)-444-0000</td>\n",
       "      <td>+32</td>\n",
       "      <td>B</td>\n",
       "      <td>12</td>\n",
       "    </tr>\n",
       "    <tr>\n",
       "      <th>1</th>\n",
       "      <td>+11</td>\n",
       "      <td>A</td>\n",
       "      <td>(990)-006-0660</td>\n",
       "      <td>+11</td>\n",
       "      <td>A</td>\n",
       "      <td>9</td>\n",
       "    </tr>\n",
       "  </tbody>\n",
       "</table>\n",
       "</div>"
      ],
      "text/plain": [
       "  country_code_x grade_x           phone country_code_y grade_y  n_credits\n",
       "0            +32       B  (874)-444-0000            +32       B         12\n",
       "1            +11       A  (990)-006-0660            +11       A          9"
      ]
     },
     "execution_count": 56,
     "metadata": {},
     "output_type": "execute_result"
    }
   ],
   "source": [
    "df2 = df2.merge(df3, on = 'phone')\n",
    "df2"
   ]
  },
  {
   "cell_type": "markdown",
   "metadata": {},
   "source": [
    "### e. Loading a dataset: `pd.read_csv()`"
   ]
  },
  {
   "cell_type": "markdown",
   "metadata": {},
   "source": [
    "We are now well equipped to deal with a real dataset!<br>\n",
    "\n",
    "\n",
    "For the next few exercises, our dataset will contain information about New York City listings on the Airbnb platform. Note: the cell below may generate a warning. Ignore the warning. "
   ]
  },
  {
   "cell_type": "code",
   "execution_count": 57,
   "metadata": {},
   "outputs": [
    {
     "name": "stderr",
     "output_type": "stream",
     "text": [
      "/usr/local/lib/python3.6/dist-packages/IPython/core/interactiveshell.py:2728: DtypeWarning: Columns (56) have mixed types.Specify dtype option on import or set low_memory=False.\n",
      "  interactivity=interactivity, compiler=compiler, result=result)\n"
     ]
    }
   ],
   "source": [
    "import os \n",
    "filename = os.path.join(os.getcwd(), \"labs_data\", \"airbnb_lab1.csv.gz\") # path to file and file name\n",
    "data = pd.read_csv(filename)"
   ]
  },
  {
   "cell_type": "code",
   "execution_count": 58,
   "metadata": {},
   "outputs": [
    {
     "data": {
      "text/plain": [
       "(38277, 63)"
      ]
     },
     "execution_count": 58,
     "metadata": {},
     "output_type": "execute_result"
    }
   ],
   "source": [
    "data.shape"
   ]
  },
  {
   "cell_type": "markdown",
   "metadata": {},
   "source": [
    "First, get a peek at the data:"
   ]
  },
  {
   "cell_type": "code",
   "execution_count": 59,
   "metadata": {},
   "outputs": [
    {
     "data": {
      "text/html": [
       "<div>\n",
       "<style scoped>\n",
       "    .dataframe tbody tr th:only-of-type {\n",
       "        vertical-align: middle;\n",
       "    }\n",
       "\n",
       "    .dataframe tbody tr th {\n",
       "        vertical-align: top;\n",
       "    }\n",
       "\n",
       "    .dataframe thead th {\n",
       "        text-align: right;\n",
       "    }\n",
       "</style>\n",
       "<table border=\"1\" class=\"dataframe\">\n",
       "  <thead>\n",
       "    <tr style=\"text-align: right;\">\n",
       "      <th></th>\n",
       "      <th>id</th>\n",
       "      <th>scrape_id</th>\n",
       "      <th>last_scraped</th>\n",
       "      <th>host_id</th>\n",
       "      <th>host_since</th>\n",
       "      <th>host_response_time</th>\n",
       "      <th>host_response_rate</th>\n",
       "      <th>host_acceptance_rate</th>\n",
       "      <th>host_is_superhost</th>\n",
       "      <th>host_neighbourhood</th>\n",
       "      <th>...</th>\n",
       "      <th>review_scores_communication</th>\n",
       "      <th>review_scores_location</th>\n",
       "      <th>review_scores_value</th>\n",
       "      <th>license</th>\n",
       "      <th>instant_bookable</th>\n",
       "      <th>calculated_host_listings_count</th>\n",
       "      <th>calculated_host_listings_count_entire_homes</th>\n",
       "      <th>calculated_host_listings_count_private_rooms</th>\n",
       "      <th>calculated_host_listings_count_shared_rooms</th>\n",
       "      <th>reviews_per_month</th>\n",
       "    </tr>\n",
       "  </thead>\n",
       "  <tbody>\n",
       "    <tr>\n",
       "      <th>0</th>\n",
       "      <td>2595</td>\n",
       "      <td>20211204143024</td>\n",
       "      <td>2021-12-05</td>\n",
       "      <td>2845</td>\n",
       "      <td>2008-09-09</td>\n",
       "      <td>within a day</td>\n",
       "      <td>80%</td>\n",
       "      <td>17%</td>\n",
       "      <td>f</td>\n",
       "      <td>Midtown</td>\n",
       "      <td>...</td>\n",
       "      <td>4.79</td>\n",
       "      <td>4.86</td>\n",
       "      <td>4.41</td>\n",
       "      <td>NaN</td>\n",
       "      <td>f</td>\n",
       "      <td>3</td>\n",
       "      <td>3</td>\n",
       "      <td>0</td>\n",
       "      <td>0</td>\n",
       "      <td>0.33</td>\n",
       "    </tr>\n",
       "    <tr>\n",
       "      <th>1</th>\n",
       "      <td>3831</td>\n",
       "      <td>20211204143024</td>\n",
       "      <td>2021-12-05</td>\n",
       "      <td>4869</td>\n",
       "      <td>2008-12-07</td>\n",
       "      <td>a few days or more</td>\n",
       "      <td>9%</td>\n",
       "      <td>69%</td>\n",
       "      <td>f</td>\n",
       "      <td>Clinton Hill</td>\n",
       "      <td>...</td>\n",
       "      <td>4.80</td>\n",
       "      <td>4.71</td>\n",
       "      <td>4.64</td>\n",
       "      <td>NaN</td>\n",
       "      <td>f</td>\n",
       "      <td>1</td>\n",
       "      <td>1</td>\n",
       "      <td>0</td>\n",
       "      <td>0</td>\n",
       "      <td>4.86</td>\n",
       "    </tr>\n",
       "    <tr>\n",
       "      <th>2</th>\n",
       "      <td>5121</td>\n",
       "      <td>20211204143024</td>\n",
       "      <td>2021-12-05</td>\n",
       "      <td>7356</td>\n",
       "      <td>2009-02-03</td>\n",
       "      <td>within an hour</td>\n",
       "      <td>100%</td>\n",
       "      <td>100%</td>\n",
       "      <td>f</td>\n",
       "      <td>Bedford-Stuyvesant</td>\n",
       "      <td>...</td>\n",
       "      <td>4.91</td>\n",
       "      <td>4.47</td>\n",
       "      <td>4.52</td>\n",
       "      <td>NaN</td>\n",
       "      <td>f</td>\n",
       "      <td>2</td>\n",
       "      <td>0</td>\n",
       "      <td>2</td>\n",
       "      <td>0</td>\n",
       "      <td>0.52</td>\n",
       "    </tr>\n",
       "    <tr>\n",
       "      <th>3</th>\n",
       "      <td>5136</td>\n",
       "      <td>20211204143024</td>\n",
       "      <td>2021-12-05</td>\n",
       "      <td>7378</td>\n",
       "      <td>2009-02-03</td>\n",
       "      <td>within a day</td>\n",
       "      <td>100%</td>\n",
       "      <td>25%</td>\n",
       "      <td>f</td>\n",
       "      <td>Greenwood Heights</td>\n",
       "      <td>...</td>\n",
       "      <td>5.00</td>\n",
       "      <td>4.50</td>\n",
       "      <td>5.00</td>\n",
       "      <td>NaN</td>\n",
       "      <td>f</td>\n",
       "      <td>1</td>\n",
       "      <td>1</td>\n",
       "      <td>0</td>\n",
       "      <td>0</td>\n",
       "      <td>0.02</td>\n",
       "    </tr>\n",
       "    <tr>\n",
       "      <th>4</th>\n",
       "      <td>5178</td>\n",
       "      <td>20211204143024</td>\n",
       "      <td>2021-12-05</td>\n",
       "      <td>8967</td>\n",
       "      <td>2009-03-03</td>\n",
       "      <td>within a day</td>\n",
       "      <td>100%</td>\n",
       "      <td>100%</td>\n",
       "      <td>f</td>\n",
       "      <td>Hell's Kitchen</td>\n",
       "      <td>...</td>\n",
       "      <td>4.42</td>\n",
       "      <td>4.87</td>\n",
       "      <td>4.36</td>\n",
       "      <td>NaN</td>\n",
       "      <td>f</td>\n",
       "      <td>1</td>\n",
       "      <td>0</td>\n",
       "      <td>1</td>\n",
       "      <td>0</td>\n",
       "      <td>3.68</td>\n",
       "    </tr>\n",
       "  </tbody>\n",
       "</table>\n",
       "<p>5 rows × 63 columns</p>\n",
       "</div>"
      ],
      "text/plain": [
       "     id       scrape_id last_scraped  host_id  host_since  host_response_time  \\\n",
       "0  2595  20211204143024   2021-12-05     2845  2008-09-09        within a day   \n",
       "1  3831  20211204143024   2021-12-05     4869  2008-12-07  a few days or more   \n",
       "2  5121  20211204143024   2021-12-05     7356  2009-02-03      within an hour   \n",
       "3  5136  20211204143024   2021-12-05     7378  2009-02-03        within a day   \n",
       "4  5178  20211204143024   2021-12-05     8967  2009-03-03        within a day   \n",
       "\n",
       "  host_response_rate host_acceptance_rate host_is_superhost  \\\n",
       "0                80%                  17%                 f   \n",
       "1                 9%                  69%                 f   \n",
       "2               100%                 100%                 f   \n",
       "3               100%                  25%                 f   \n",
       "4               100%                 100%                 f   \n",
       "\n",
       "   host_neighbourhood  ...  review_scores_communication  \\\n",
       "0             Midtown  ...                         4.79   \n",
       "1        Clinton Hill  ...                         4.80   \n",
       "2  Bedford-Stuyvesant  ...                         4.91   \n",
       "3   Greenwood Heights  ...                         5.00   \n",
       "4      Hell's Kitchen  ...                         4.42   \n",
       "\n",
       "   review_scores_location review_scores_value license instant_bookable  \\\n",
       "0                    4.86                4.41     NaN                f   \n",
       "1                    4.71                4.64     NaN                f   \n",
       "2                    4.47                4.52     NaN                f   \n",
       "3                    4.50                5.00     NaN                f   \n",
       "4                    4.87                4.36     NaN                f   \n",
       "\n",
       "  calculated_host_listings_count calculated_host_listings_count_entire_homes  \\\n",
       "0                              3                                           3   \n",
       "1                              1                                           1   \n",
       "2                              2                                           0   \n",
       "3                              1                                           1   \n",
       "4                              1                                           0   \n",
       "\n",
       "  calculated_host_listings_count_private_rooms  \\\n",
       "0                                            0   \n",
       "1                                            0   \n",
       "2                                            2   \n",
       "3                                            0   \n",
       "4                                            1   \n",
       "\n",
       "   calculated_host_listings_count_shared_rooms  reviews_per_month  \n",
       "0                                            0               0.33  \n",
       "1                                            0               4.86  \n",
       "2                                            0               0.52  \n",
       "3                                            0               0.02  \n",
       "4                                            0               3.68  \n",
       "\n",
       "[5 rows x 63 columns]"
      ]
     },
     "execution_count": 59,
     "metadata": {},
     "output_type": "execute_result"
    }
   ],
   "source": [
    "data.head()"
   ]
  },
  {
   "cell_type": "markdown",
   "metadata": {},
   "source": [
    "That's a lot of columns, and the layout is a little difficult to read. <br>\n",
    "Let us retrieve just the list of column names, so we can read it and get a feeling for what kind of information is presented in the dataset."
   ]
  },
  {
   "cell_type": "markdown",
   "metadata": {},
   "source": [
    "### f. Get column names: `df.columns`"
   ]
  },
  {
   "cell_type": "code",
   "execution_count": 60,
   "metadata": {},
   "outputs": [
    {
     "data": {
      "text/plain": [
       "['id',\n",
       " 'scrape_id',\n",
       " 'last_scraped',\n",
       " 'host_id',\n",
       " 'host_since',\n",
       " 'host_response_time',\n",
       " 'host_response_rate',\n",
       " 'host_acceptance_rate',\n",
       " 'host_is_superhost',\n",
       " 'host_neighbourhood',\n",
       " 'host_listings_count',\n",
       " 'host_total_listings_count',\n",
       " 'host_verifications',\n",
       " 'host_has_profile_pic',\n",
       " 'host_identity_verified',\n",
       " 'neighbourhood',\n",
       " 'neighbourhood_cleansed',\n",
       " 'neighbourhood_group_cleansed',\n",
       " 'latitude',\n",
       " 'longitude',\n",
       " 'property_type',\n",
       " 'room_type',\n",
       " 'accommodates',\n",
       " 'bathrooms',\n",
       " 'bathrooms_text',\n",
       " 'bedrooms',\n",
       " 'beds',\n",
       " 'amenities',\n",
       " 'price',\n",
       " 'minimum_nights',\n",
       " 'maximum_nights',\n",
       " 'minimum_minimum_nights',\n",
       " 'maximum_minimum_nights',\n",
       " 'minimum_maximum_nights',\n",
       " 'maximum_maximum_nights',\n",
       " 'minimum_nights_avg_ntm',\n",
       " 'maximum_nights_avg_ntm',\n",
       " 'calendar_updated',\n",
       " 'has_availability',\n",
       " 'availability_30',\n",
       " 'availability_60',\n",
       " 'availability_90',\n",
       " 'availability_365',\n",
       " 'calendar_last_scraped',\n",
       " 'number_of_reviews',\n",
       " 'number_of_reviews_ltm',\n",
       " 'number_of_reviews_l30d',\n",
       " 'first_review',\n",
       " 'last_review',\n",
       " 'review_scores_rating',\n",
       " 'review_scores_accuracy',\n",
       " 'review_scores_cleanliness',\n",
       " 'review_scores_checkin',\n",
       " 'review_scores_communication',\n",
       " 'review_scores_location',\n",
       " 'review_scores_value',\n",
       " 'license',\n",
       " 'instant_bookable',\n",
       " 'calculated_host_listings_count',\n",
       " 'calculated_host_listings_count_entire_homes',\n",
       " 'calculated_host_listings_count_private_rooms',\n",
       " 'calculated_host_listings_count_shared_rooms',\n",
       " 'reviews_per_month']"
      ]
     },
     "execution_count": 60,
     "metadata": {},
     "output_type": "execute_result"
    }
   ],
   "source": [
    "list(data.columns)"
   ]
  },
  {
   "cell_type": "markdown",
   "metadata": {},
   "source": [
    "What do the column names mean? Some of them are less intuitively interpretable than others. <br>\n",
    "Careful data documentation is indispensable for business analytics. You can consult the documentation that accompanies this open source dataset for a detailed description of the key variable names, what they represent, and how they were generated."
   ]
  },
  {
   "cell_type": "markdown",
   "metadata": {},
   "source": [
    "### g. Summary statistics of the DataFrame: `df.describe()`"
   ]
  },
  {
   "cell_type": "markdown",
   "metadata": {},
   "source": [
    "Let's print some general statistics for each one of the `data` columns:"
   ]
  },
  {
   "cell_type": "code",
   "execution_count": 61,
   "metadata": {},
   "outputs": [
    {
     "data": {
      "text/html": [
       "<div>\n",
       "<style scoped>\n",
       "    .dataframe tbody tr th:only-of-type {\n",
       "        vertical-align: middle;\n",
       "    }\n",
       "\n",
       "    .dataframe tbody tr th {\n",
       "        vertical-align: top;\n",
       "    }\n",
       "\n",
       "    .dataframe thead th {\n",
       "        text-align: right;\n",
       "    }\n",
       "</style>\n",
       "<table border=\"1\" class=\"dataframe\">\n",
       "  <thead>\n",
       "    <tr style=\"text-align: right;\">\n",
       "      <th></th>\n",
       "      <th>id</th>\n",
       "      <th>scrape_id</th>\n",
       "      <th>last_scraped</th>\n",
       "      <th>host_id</th>\n",
       "      <th>host_since</th>\n",
       "      <th>host_response_time</th>\n",
       "      <th>host_response_rate</th>\n",
       "      <th>host_acceptance_rate</th>\n",
       "      <th>host_is_superhost</th>\n",
       "      <th>host_neighbourhood</th>\n",
       "      <th>...</th>\n",
       "      <th>review_scores_communication</th>\n",
       "      <th>review_scores_location</th>\n",
       "      <th>review_scores_value</th>\n",
       "      <th>license</th>\n",
       "      <th>instant_bookable</th>\n",
       "      <th>calculated_host_listings_count</th>\n",
       "      <th>calculated_host_listings_count_entire_homes</th>\n",
       "      <th>calculated_host_listings_count_private_rooms</th>\n",
       "      <th>calculated_host_listings_count_shared_rooms</th>\n",
       "      <th>reviews_per_month</th>\n",
       "    </tr>\n",
       "  </thead>\n",
       "  <tbody>\n",
       "    <tr>\n",
       "      <th>count</th>\n",
       "      <td>3.827700e+04</td>\n",
       "      <td>3.827700e+04</td>\n",
       "      <td>38277</td>\n",
       "      <td>3.827700e+04</td>\n",
       "      <td>38243</td>\n",
       "      <td>21084</td>\n",
       "      <td>21084</td>\n",
       "      <td>21791</td>\n",
       "      <td>38243</td>\n",
       "      <td>30813</td>\n",
       "      <td>...</td>\n",
       "      <td>28165.000000</td>\n",
       "      <td>28151.000000</td>\n",
       "      <td>28150.000000</td>\n",
       "      <td>1</td>\n",
       "      <td>38277</td>\n",
       "      <td>38277.000000</td>\n",
       "      <td>38277.000000</td>\n",
       "      <td>38277.000000</td>\n",
       "      <td>38277.000000</td>\n",
       "      <td>28773.000000</td>\n",
       "    </tr>\n",
       "    <tr>\n",
       "      <th>unique</th>\n",
       "      <td>NaN</td>\n",
       "      <td>NaN</td>\n",
       "      <td>2</td>\n",
       "      <td>NaN</td>\n",
       "      <td>4289</td>\n",
       "      <td>4</td>\n",
       "      <td>88</td>\n",
       "      <td>101</td>\n",
       "      <td>2</td>\n",
       "      <td>484</td>\n",
       "      <td>...</td>\n",
       "      <td>NaN</td>\n",
       "      <td>NaN</td>\n",
       "      <td>NaN</td>\n",
       "      <td>1</td>\n",
       "      <td>2</td>\n",
       "      <td>NaN</td>\n",
       "      <td>NaN</td>\n",
       "      <td>NaN</td>\n",
       "      <td>NaN</td>\n",
       "      <td>NaN</td>\n",
       "    </tr>\n",
       "    <tr>\n",
       "      <th>top</th>\n",
       "      <td>NaN</td>\n",
       "      <td>NaN</td>\n",
       "      <td>2021-12-05</td>\n",
       "      <td>NaN</td>\n",
       "      <td>2019-10-29</td>\n",
       "      <td>within an hour</td>\n",
       "      <td>100%</td>\n",
       "      <td>100%</td>\n",
       "      <td>f</td>\n",
       "      <td>Bedford-Stuyvesant</td>\n",
       "      <td>...</td>\n",
       "      <td>NaN</td>\n",
       "      <td>NaN</td>\n",
       "      <td>NaN</td>\n",
       "      <td>41662/AL</td>\n",
       "      <td>f</td>\n",
       "      <td>NaN</td>\n",
       "      <td>NaN</td>\n",
       "      <td>NaN</td>\n",
       "      <td>NaN</td>\n",
       "      <td>NaN</td>\n",
       "    </tr>\n",
       "    <tr>\n",
       "      <th>freq</th>\n",
       "      <td>NaN</td>\n",
       "      <td>NaN</td>\n",
       "      <td>31879</td>\n",
       "      <td>NaN</td>\n",
       "      <td>433</td>\n",
       "      <td>11151</td>\n",
       "      <td>13299</td>\n",
       "      <td>5342</td>\n",
       "      <td>30865</td>\n",
       "      <td>2138</td>\n",
       "      <td>...</td>\n",
       "      <td>NaN</td>\n",
       "      <td>NaN</td>\n",
       "      <td>NaN</td>\n",
       "      <td>1</td>\n",
       "      <td>27851</td>\n",
       "      <td>NaN</td>\n",
       "      <td>NaN</td>\n",
       "      <td>NaN</td>\n",
       "      <td>NaN</td>\n",
       "      <td>NaN</td>\n",
       "    </tr>\n",
       "    <tr>\n",
       "      <th>mean</th>\n",
       "      <td>2.962239e+07</td>\n",
       "      <td>2.021120e+13</td>\n",
       "      <td>NaN</td>\n",
       "      <td>1.148305e+08</td>\n",
       "      <td>NaN</td>\n",
       "      <td>NaN</td>\n",
       "      <td>NaN</td>\n",
       "      <td>NaN</td>\n",
       "      <td>NaN</td>\n",
       "      <td>NaN</td>\n",
       "      <td>...</td>\n",
       "      <td>4.807454</td>\n",
       "      <td>4.750307</td>\n",
       "      <td>4.646892</td>\n",
       "      <td>NaN</td>\n",
       "      <td>NaN</td>\n",
       "      <td>17.747655</td>\n",
       "      <td>8.042637</td>\n",
       "      <td>9.593934</td>\n",
       "      <td>0.047966</td>\n",
       "      <td>1.721019</td>\n",
       "    </tr>\n",
       "    <tr>\n",
       "      <th>std</th>\n",
       "      <td>1.742239e+07</td>\n",
       "      <td>0.000000e+00</td>\n",
       "      <td>NaN</td>\n",
       "      <td>1.299194e+08</td>\n",
       "      <td>NaN</td>\n",
       "      <td>NaN</td>\n",
       "      <td>NaN</td>\n",
       "      <td>NaN</td>\n",
       "      <td>NaN</td>\n",
       "      <td>NaN</td>\n",
       "      <td>...</td>\n",
       "      <td>0.465544</td>\n",
       "      <td>0.416101</td>\n",
       "      <td>0.518905</td>\n",
       "      <td>NaN</td>\n",
       "      <td>NaN</td>\n",
       "      <td>59.150451</td>\n",
       "      <td>34.977178</td>\n",
       "      <td>43.310123</td>\n",
       "      <td>0.426789</td>\n",
       "      <td>4.399826</td>\n",
       "    </tr>\n",
       "    <tr>\n",
       "      <th>min</th>\n",
       "      <td>2.595000e+03</td>\n",
       "      <td>2.021120e+13</td>\n",
       "      <td>NaN</td>\n",
       "      <td>2.438000e+03</td>\n",
       "      <td>NaN</td>\n",
       "      <td>NaN</td>\n",
       "      <td>NaN</td>\n",
       "      <td>NaN</td>\n",
       "      <td>NaN</td>\n",
       "      <td>NaN</td>\n",
       "      <td>...</td>\n",
       "      <td>0.000000</td>\n",
       "      <td>0.000000</td>\n",
       "      <td>0.000000</td>\n",
       "      <td>NaN</td>\n",
       "      <td>NaN</td>\n",
       "      <td>1.000000</td>\n",
       "      <td>0.000000</td>\n",
       "      <td>0.000000</td>\n",
       "      <td>0.000000</td>\n",
       "      <td>0.010000</td>\n",
       "    </tr>\n",
       "    <tr>\n",
       "      <th>25%</th>\n",
       "      <td>1.341048e+07</td>\n",
       "      <td>2.021120e+13</td>\n",
       "      <td>NaN</td>\n",
       "      <td>1.139462e+07</td>\n",
       "      <td>NaN</td>\n",
       "      <td>NaN</td>\n",
       "      <td>NaN</td>\n",
       "      <td>NaN</td>\n",
       "      <td>NaN</td>\n",
       "      <td>NaN</td>\n",
       "      <td>...</td>\n",
       "      <td>4.810000</td>\n",
       "      <td>4.670000</td>\n",
       "      <td>4.550000</td>\n",
       "      <td>NaN</td>\n",
       "      <td>NaN</td>\n",
       "      <td>1.000000</td>\n",
       "      <td>0.000000</td>\n",
       "      <td>0.000000</td>\n",
       "      <td>0.000000</td>\n",
       "      <td>0.120000</td>\n",
       "    </tr>\n",
       "    <tr>\n",
       "      <th>50%</th>\n",
       "      <td>3.081269e+07</td>\n",
       "      <td>2.021120e+13</td>\n",
       "      <td>NaN</td>\n",
       "      <td>5.005297e+07</td>\n",
       "      <td>NaN</td>\n",
       "      <td>NaN</td>\n",
       "      <td>NaN</td>\n",
       "      <td>NaN</td>\n",
       "      <td>NaN</td>\n",
       "      <td>NaN</td>\n",
       "      <td>...</td>\n",
       "      <td>4.970000</td>\n",
       "      <td>4.880000</td>\n",
       "      <td>4.780000</td>\n",
       "      <td>NaN</td>\n",
       "      <td>NaN</td>\n",
       "      <td>1.000000</td>\n",
       "      <td>1.000000</td>\n",
       "      <td>0.000000</td>\n",
       "      <td>0.000000</td>\n",
       "      <td>0.480000</td>\n",
       "    </tr>\n",
       "    <tr>\n",
       "      <th>75%</th>\n",
       "      <td>4.642855e+07</td>\n",
       "      <td>2.021120e+13</td>\n",
       "      <td>NaN</td>\n",
       "      <td>2.002395e+08</td>\n",
       "      <td>NaN</td>\n",
       "      <td>NaN</td>\n",
       "      <td>NaN</td>\n",
       "      <td>NaN</td>\n",
       "      <td>NaN</td>\n",
       "      <td>NaN</td>\n",
       "      <td>...</td>\n",
       "      <td>5.000000</td>\n",
       "      <td>5.000000</td>\n",
       "      <td>5.000000</td>\n",
       "      <td>NaN</td>\n",
       "      <td>NaN</td>\n",
       "      <td>3.000000</td>\n",
       "      <td>1.000000</td>\n",
       "      <td>1.000000</td>\n",
       "      <td>0.000000</td>\n",
       "      <td>1.780000</td>\n",
       "    </tr>\n",
       "    <tr>\n",
       "      <th>max</th>\n",
       "      <td>5.366510e+07</td>\n",
       "      <td>2.021120e+13</td>\n",
       "      <td>NaN</td>\n",
       "      <td>4.344080e+08</td>\n",
       "      <td>NaN</td>\n",
       "      <td>NaN</td>\n",
       "      <td>NaN</td>\n",
       "      <td>NaN</td>\n",
       "      <td>NaN</td>\n",
       "      <td>NaN</td>\n",
       "      <td>...</td>\n",
       "      <td>5.000000</td>\n",
       "      <td>5.000000</td>\n",
       "      <td>5.000000</td>\n",
       "      <td>NaN</td>\n",
       "      <td>NaN</td>\n",
       "      <td>421.000000</td>\n",
       "      <td>308.000000</td>\n",
       "      <td>359.000000</td>\n",
       "      <td>8.000000</td>\n",
       "      <td>141.000000</td>\n",
       "    </tr>\n",
       "  </tbody>\n",
       "</table>\n",
       "<p>11 rows × 63 columns</p>\n",
       "</div>"
      ],
      "text/plain": [
       "                  id     scrape_id last_scraped       host_id  host_since  \\\n",
       "count   3.827700e+04  3.827700e+04        38277  3.827700e+04       38243   \n",
       "unique           NaN           NaN            2           NaN        4289   \n",
       "top              NaN           NaN   2021-12-05           NaN  2019-10-29   \n",
       "freq             NaN           NaN        31879           NaN         433   \n",
       "mean    2.962239e+07  2.021120e+13          NaN  1.148305e+08         NaN   \n",
       "std     1.742239e+07  0.000000e+00          NaN  1.299194e+08         NaN   \n",
       "min     2.595000e+03  2.021120e+13          NaN  2.438000e+03         NaN   \n",
       "25%     1.341048e+07  2.021120e+13          NaN  1.139462e+07         NaN   \n",
       "50%     3.081269e+07  2.021120e+13          NaN  5.005297e+07         NaN   \n",
       "75%     4.642855e+07  2.021120e+13          NaN  2.002395e+08         NaN   \n",
       "max     5.366510e+07  2.021120e+13          NaN  4.344080e+08         NaN   \n",
       "\n",
       "       host_response_time host_response_rate host_acceptance_rate  \\\n",
       "count               21084              21084                21791   \n",
       "unique                  4                 88                  101   \n",
       "top        within an hour               100%                 100%   \n",
       "freq                11151              13299                 5342   \n",
       "mean                  NaN                NaN                  NaN   \n",
       "std                   NaN                NaN                  NaN   \n",
       "min                   NaN                NaN                  NaN   \n",
       "25%                   NaN                NaN                  NaN   \n",
       "50%                   NaN                NaN                  NaN   \n",
       "75%                   NaN                NaN                  NaN   \n",
       "max                   NaN                NaN                  NaN   \n",
       "\n",
       "       host_is_superhost  host_neighbourhood  ...  \\\n",
       "count              38243               30813  ...   \n",
       "unique                 2                 484  ...   \n",
       "top                    f  Bedford-Stuyvesant  ...   \n",
       "freq               30865                2138  ...   \n",
       "mean                 NaN                 NaN  ...   \n",
       "std                  NaN                 NaN  ...   \n",
       "min                  NaN                 NaN  ...   \n",
       "25%                  NaN                 NaN  ...   \n",
       "50%                  NaN                 NaN  ...   \n",
       "75%                  NaN                 NaN  ...   \n",
       "max                  NaN                 NaN  ...   \n",
       "\n",
       "        review_scores_communication  review_scores_location  \\\n",
       "count                  28165.000000            28151.000000   \n",
       "unique                          NaN                     NaN   \n",
       "top                             NaN                     NaN   \n",
       "freq                            NaN                     NaN   \n",
       "mean                       4.807454                4.750307   \n",
       "std                        0.465544                0.416101   \n",
       "min                        0.000000                0.000000   \n",
       "25%                        4.810000                4.670000   \n",
       "50%                        4.970000                4.880000   \n",
       "75%                        5.000000                5.000000   \n",
       "max                        5.000000                5.000000   \n",
       "\n",
       "       review_scores_value   license instant_bookable  \\\n",
       "count         28150.000000         1            38277   \n",
       "unique                 NaN         1                2   \n",
       "top                    NaN  41662/AL                f   \n",
       "freq                   NaN         1            27851   \n",
       "mean              4.646892       NaN              NaN   \n",
       "std               0.518905       NaN              NaN   \n",
       "min               0.000000       NaN              NaN   \n",
       "25%               4.550000       NaN              NaN   \n",
       "50%               4.780000       NaN              NaN   \n",
       "75%               5.000000       NaN              NaN   \n",
       "max               5.000000       NaN              NaN   \n",
       "\n",
       "       calculated_host_listings_count  \\\n",
       "count                    38277.000000   \n",
       "unique                            NaN   \n",
       "top                               NaN   \n",
       "freq                              NaN   \n",
       "mean                        17.747655   \n",
       "std                         59.150451   \n",
       "min                          1.000000   \n",
       "25%                          1.000000   \n",
       "50%                          1.000000   \n",
       "75%                          3.000000   \n",
       "max                        421.000000   \n",
       "\n",
       "       calculated_host_listings_count_entire_homes  \\\n",
       "count                                 38277.000000   \n",
       "unique                                         NaN   \n",
       "top                                            NaN   \n",
       "freq                                           NaN   \n",
       "mean                                      8.042637   \n",
       "std                                      34.977178   \n",
       "min                                       0.000000   \n",
       "25%                                       0.000000   \n",
       "50%                                       1.000000   \n",
       "75%                                       1.000000   \n",
       "max                                     308.000000   \n",
       "\n",
       "       calculated_host_listings_count_private_rooms  \\\n",
       "count                                  38277.000000   \n",
       "unique                                          NaN   \n",
       "top                                             NaN   \n",
       "freq                                            NaN   \n",
       "mean                                       9.593934   \n",
       "std                                       43.310123   \n",
       "min                                        0.000000   \n",
       "25%                                        0.000000   \n",
       "50%                                        0.000000   \n",
       "75%                                        1.000000   \n",
       "max                                      359.000000   \n",
       "\n",
       "        calculated_host_listings_count_shared_rooms  reviews_per_month  \n",
       "count                                  38277.000000       28773.000000  \n",
       "unique                                          NaN                NaN  \n",
       "top                                             NaN                NaN  \n",
       "freq                                            NaN                NaN  \n",
       "mean                                       0.047966           1.721019  \n",
       "std                                        0.426789           4.399826  \n",
       "min                                        0.000000           0.010000  \n",
       "25%                                        0.000000           0.120000  \n",
       "50%                                        0.000000           0.480000  \n",
       "75%                                        0.000000           1.780000  \n",
       "max                                        8.000000         141.000000  \n",
       "\n",
       "[11 rows x 63 columns]"
      ]
     },
     "execution_count": 61,
     "metadata": {},
     "output_type": "execute_result"
    }
   ],
   "source": [
    "data.describe(include='all')"
   ]
  },
  {
   "cell_type": "markdown",
   "metadata": {},
   "source": [
    "\n",
    "<br>Consider the following business question:<br>\n",
    "What is the average availability (out of 365 days in a year) for the listings in Brooklyn? <br>\n",
    "The answer can be obtained by the use of **filters** on the dataset."
   ]
  },
  {
   "cell_type": "markdown",
   "metadata": {},
   "source": [
    "### h. Filtering the data: `df[ < condition > ]`"
   ]
  },
  {
   "cell_type": "markdown",
   "metadata": {},
   "source": [
    "We need to filter the entries that are in Brooklyn. To do this, we need to know what is the exact way that Manhattan listings are spelled and entered in the data. Let's print all of the unique values of the 'neighborhood' column:"
   ]
  },
  {
   "cell_type": "code",
   "execution_count": 62,
   "metadata": {},
   "outputs": [
    {
     "data": {
      "text/plain": [
       "array(['New York, United States', 'Brooklyn, New York, United States',\n",
       "       nan, 'Queens, New York, United States',\n",
       "       'Long Island City, New York, United States',\n",
       "       'Astoria, New York, United States',\n",
       "       'Bronx, New York, United States',\n",
       "       'Staten Island, New York, United States',\n",
       "       'Elmhurst, New York, United States',\n",
       "       'Riverdale , New York, United States',\n",
       "       'Briarwood, New York, United States',\n",
       "       'Kips Bay, New York, United States',\n",
       "       'Jackson Heights, New York, United States',\n",
       "       'New York, Manhattan, United States',\n",
       "       'Park Slope, Brooklyn, New York, United States',\n",
       "       'Kew Gardens, New York, United States',\n",
       "       'Flushing, New York, United States',\n",
       "       'Astoria , New York, United States',\n",
       "       'Sunnyside, New York, United States',\n",
       "       'Woodside, New York, United States',\n",
       "       'NY , New York, United States',\n",
       "       'Bushwick, Brooklyn, New York, United States',\n",
       "       'Brooklyn , New York, United States', 'United States',\n",
       "       'Sunnyside , New York, United States',\n",
       "       'LONG ISLAND CITY, New York, United States',\n",
       "       'Astoria, Queens, New York, United States',\n",
       "       'Woodhaven, New York, United States',\n",
       "       'bronx, New York, United States',\n",
       "       'Harlem, New York, United States',\n",
       "       'brooklyn, New York, United States',\n",
       "       'Middle Village, New York, United States',\n",
       "       'BROOKLYN, New York, United States',\n",
       "       'Brooklyn,  Ny 11221, New York, United States',\n",
       "       'Staten Island , New York, United States',\n",
       "       'Greenpoint, Brooklyn, New York, United States',\n",
       "       'Long Island city, New York, United States',\n",
       "       'astoria, New York, United States',\n",
       "       'The Bronx, New York, United States',\n",
       "       'ASTORIA, New York, United States',\n",
       "       'Ridgewood , New York, United States',\n",
       "       'Ridgewood, New York, United States',\n",
       "       'Jamaica, New York, United States',\n",
       "       'Bayside, New York, United States',\n",
       "       'Jackson heights , New York, United States',\n",
       "       'East Elmhurst, New York, United States',\n",
       "       'Williamsburg, Brooklyn, New York, United States',\n",
       "       'Williamsburg, New York, United States',\n",
       "       'LIC, New York, United States',\n",
       "       'Brooklyn. , New York, United States',\n",
       "       'Manhattan, New York, United States',\n",
       "       'New-York, New York, United States',\n",
       "       'Far Rockaway, New York, United States',\n",
       "       'Richmond Hill, New York, United States',\n",
       "       'forest hills/corona, New York, United States',\n",
       "       'Jackson  hights , New York, United States',\n",
       "       'Clinton Hill Brooklyn, New York, United States',\n",
       "       'Flushing , New York, United States',\n",
       "       'Elmhurst , New York, United States',\n",
       "       'Brooklyn, Northern Mariana Islands, United States',\n",
       "       'queens, New York, United States',\n",
       "       'Flushing /Kew Gardens Hills, New York, United States',\n",
       "       'RIVERDALE, New York, United States',\n",
       "       'East elmhurst, New York, United States',\n",
       "       'Forest Hills, New York, United States',\n",
       "       'SUNNYSIDE, New York, United States',\n",
       "       'Maspeth, New York, United States',\n",
       "       'Fresh Meadows , New York, United States',\n",
       "       'NY, New York, United States',\n",
       "       'Floral Park, New York, United States',\n",
       "       'new york, New York, United States',\n",
       "       'Richmond hill, New York, United States',\n",
       "       'Jackson heights, New York, United States',\n",
       "       'Astoria Queens, New York, United States',\n",
       "       'New York city, New York, United States',\n",
       "       'Queens Village, New York, United States',\n",
       "       'New York , New York, United States',\n",
       "       'Corona, New York, United States',\n",
       "       'Gravesend Brooklyn , New York, United States',\n",
       "       'MIDDLE VILLAGE, New York, United States',\n",
       "       'Bronx , New York, United States',\n",
       "       'Bushwick, New York, United States',\n",
       "       'Queens , New York, United States',\n",
       "       'Rockaway beach , New York, United States',\n",
       "       'Arverne, New York, United States',\n",
       "       'flushing , New York, United States',\n",
       "       'Parkchester , New York, United States',\n",
       "       'Fresh meadows, New York, United States',\n",
       "       'flushing, New York, United States',\n",
       "       'Manhattan , New York, United States',\n",
       "       'Kew Gardens , New York, United States',\n",
       "       'Rockaway Beach , New York, United States',\n",
       "       'Rockaway Beach, New York, United States',\n",
       "       'Manhattan, New York, New York, United States',\n",
       "       'Jackson Heights , New York, United States',\n",
       "       'Flush, New York, United States',\n",
       "       'Jamaica , New York, United States',\n",
       "       'Corona , New York, United States',\n",
       "       ' Crown Heights,NY, New York, United States',\n",
       "       'Jamaica , ny, United States',\n",
       "       'ozone park queens , New York, United States',\n",
       "       'Bushwick , New York, United States',\n",
       "       'New York, US, New York, United States',\n",
       "       'Forest hills, New York, United States',\n",
       "       'Woodside , New York, United States',\n",
       "       'Cambria heights , New York, United States',\n",
       "       '8425 Elmhurst avenue , New York, United States',\n",
       "       '纽约市, New York, United States',\n",
       "       'Rego Park, New York, United States',\n",
       "       'Bronx, NY, New York, United States',\n",
       "       'Springfield Gardens , New York, United States',\n",
       "       '纽约, New York, United States', 'Hollis, New York, United States',\n",
       "       'Springfield Gardens, New York, United States',\n",
       "       'FOREST HILLS, New York, United States',\n",
       "       'Brookly , New York, United States',\n",
       "       'elmhurst Queens, New York, United States',\n",
       "       'Ozone Park, New York, United States',\n",
       "       'East elmhurst , New York, United States',\n",
       "       'South Richmond Hill, New York, United States',\n",
       "       'Staten island , New York, United States',\n",
       "       'Glendale , New York, United States',\n",
       "       'Woodhaven , New York, United States',\n",
       "       'New York City , New York, United States',\n",
       "       'Pomona, California, United States',\n",
       "       'Williamsburg, Brooklyn , New York, United States',\n",
       "       'Bronx New York, New York, United States',\n",
       "       'Astoria Queens , New York, United States',\n",
       "       'Fresh Meadows, New York, United States',\n",
       "       'St. Albans , New York, United States',\n",
       "       'New York City, New York, United States',\n",
       "       'Springfield gardens, New York, United States',\n",
       "       'Richmond Hill, Jamaica, Queens, New York, United States',\n",
       "       'west new york , New Jersey, United States',\n",
       "       'East Elmhurst , New York, United States',\n",
       "       'East Elmhurst or Flushing , New York, United States',\n",
       "       'Oakland Gardens , New York, United States',\n",
       "       'Newyork, New York, United States',\n",
       "       'Long island city , New York, United States',\n",
       "       'New york, New York, United States',\n",
       "       'bronx , New York, United States',\n",
       "       'Flushing or east Elmhurst , New York, United States',\n",
       "       'Laurelton , New York, United States',\n",
       "       'Brooklyn, New York, New York, United States',\n",
       "       'Lawrence, New York, United States',\n",
       "       'Bushwick Brooklyn , New York, United States',\n",
       "       'Richmond Hill , New York, United States',\n",
       "       'Brooklyn Heights , New York, United States',\n",
       "       'Rosedale , New York, United States',\n",
       "       'Sunnyside, Queens, New York, United States',\n",
       "       'Middle village, New York, United States',\n",
       "       'BROOKLYN , New York, United States',\n",
       "       'Arverne, Queens, New York, United States',\n",
       "       'Saint Albans , New York, United States',\n",
       "       'Fort Greene, New York, United States',\n",
       "       'Saint Albans, New York, United States',\n",
       "       ' Astoria, New York, United States',\n",
       "       'Maspeth , New York, United States',\n",
       "       'New York,Manhattan , New York, United States',\n",
       "       'Williamsburg , New York, United States',\n",
       "       'Long Island, New York, United States',\n",
       "       'Howard Beach, New York, United States',\n",
       "       'Little neck, New York, United States',\n",
       "       'New York , Ny, United States',\n",
       "       'New York - Sunnyside , New York, United States',\n",
       "       'Glendale, New York, United States',\n",
       "       'Queens Village , New York, United States',\n",
       "       'forest hills, New York, United States',\n",
       "       'NYC , New York, United States',\n",
       "       'Rosedale, New York, United States',\n",
       "       'Queens, Flushing , New York, United States',\n",
       "       'Jamaica queens, New York, United States',\n",
       "       'NEW YORK, New York, United States',\n",
       "       'Laurelton , Queens , New York, United States',\n",
       "       ' Springfield Gardens, New York, United States',\n",
       "       'Queens, Astoria , New York, United States',\n",
       "       'The Bronx (Riverdale), New York, United States',\n",
       "       'Bushwick Brooklyn, New York, United States',\n",
       "       'Laurelton, New York, United States',\n",
       "       'Forest Hill, New York, United States',\n",
       "       ' Forest Hills, New York, United States',\n",
       "       'Long Island City, Queens, New York, United States',\n",
       "       'Brooklyn , Ny, United States',\n",
       "       'Queens village, New York, United States',\n",
       "       'Greenpoint Brooklyn , New York, United States',\n",
       "       'Elmont, New York, United States',\n",
       "       'WOODSIDE , New York, United States',\n",
       "       'Queens, New York , United States',\n",
       "       'Broklyn , New York, United States',\n",
       "       'Queens-Rego Park, New York, United States',\n",
       "       'Rego Park , New York, United States',\n",
       "       'North Bronx (Wakefield), New York, United States',\n",
       "       'Woodside, Queens, New York, United States',\n",
       "       'South Ozone Park, New York, United States',\n",
       "       'woodside, New York, United States',\n",
       "       'Corona queens , New York, United States',\n",
       "       'Nueva York, New York, United States',\n",
       "       'Forest hills , New York, United States',\n",
       "       'New york, Ny, United States',\n",
       "       ' East Elmhurst, New York, United States',\n",
       "       'South ozone park , New York, United States',\n",
       "       'Long Island city , New York, United States',\n",
       "       'New York, Ny, United States',\n",
       "       'Mount Vernon, New York, United States', 'New York, NY, Argentina',\n",
       "       'Montbel, Lozère, France', 'Scottsdale, Arizona, United States',\n",
       "       'Yonkers, New York, United States'], dtype=object)"
      ]
     },
     "execution_count": 62,
     "metadata": {},
     "output_type": "execute_result"
    }
   ],
   "source": [
    "data['neighbourhood'].unique()"
   ]
  },
  {
   "cell_type": "markdown",
   "metadata": {},
   "source": [
    "You may have noticed that there is a lot of heterogeneity in the way `neighborhood` values are specified. The values are not standardized. There are overlaps, redundancies, and inconsistencies (e.g., some entries specify ```'Greenpoint, Brooklyn, New York, United States'```, some other ones list `'BROOKLYN, New York, United States',`, yet other ones say `'Williamsburg, Brooklyn, New York, United States'`, etc. In real life, you would have to clean this data and replace these values with standard, identically formated, consistent values. <br>\n",
    "\n",
    "For this data file, however, we are lucky to already have a 'cleansed' version of the neighborhood information based on the latitude and the longitude of every listing location. \n",
    "\n",
    "We will list the unique values of the columns titled `neighbourhood_cleansed` and `neighbourhood_group_cleansed`:"
   ]
  },
  {
   "cell_type": "code",
   "execution_count": 63,
   "metadata": {},
   "outputs": [
    {
     "data": {
      "text/plain": [
       "array(['Midtown', 'Bedford-Stuyvesant', 'Sunset Park', 'Upper West Side',\n",
       "       'South Slope', 'Williamsburg', 'East Harlem', 'Fort Greene',\n",
       "       \"Hell's Kitchen\", 'East Village', 'Harlem', 'Flatbush',\n",
       "       'Long Island City', 'Jamaica', 'Greenpoint', 'Nolita', 'Chelsea',\n",
       "       'Upper East Side', 'Prospect Heights', 'Clinton Hill',\n",
       "       'Washington Heights', 'Kips Bay', 'Bushwick', 'Carroll Gardens',\n",
       "       'West Village', 'Park Slope', 'Prospect-Lefferts Gardens',\n",
       "       'Lower East Side', 'East Flatbush', 'Boerum Hill', 'Sunnyside',\n",
       "       'St. George', 'Tribeca', 'Highbridge', 'Ridgewood', 'Mott Haven',\n",
       "       'Morningside Heights', 'Gowanus', 'Ditmars Steinway',\n",
       "       'Middle Village', 'Brooklyn Heights', 'Flatiron District',\n",
       "       'Windsor Terrace', 'Chinatown', 'Greenwich Village',\n",
       "       'Clason Point', 'Crown Heights', 'Astoria', 'Kingsbridge',\n",
       "       'Forest Hills', 'Murray Hill', 'University Heights', 'Gravesend',\n",
       "       'Allerton', 'East New York', 'Stuyvesant Town', 'Sheepshead Bay',\n",
       "       'Emerson Hill', 'Bensonhurst', 'Shore Acres', 'Richmond Hill',\n",
       "       'Gramercy', 'Arrochar', 'Financial District', 'Theater District',\n",
       "       'Rego Park', 'Kensington', 'Woodside', 'Cypress Hills', 'SoHo',\n",
       "       'Little Italy', 'Elmhurst', 'Clifton', 'Bayside', 'Bay Ridge',\n",
       "       'Maspeth', 'Spuyten Duyvil', 'Stapleton', 'Briarwood',\n",
       "       'Battery Park City', 'Brighton Beach', 'Jackson Heights',\n",
       "       'Longwood', 'Inwood', 'Two Bridges', 'Fort Hamilton',\n",
       "       'Cobble Hill', 'New Springville', 'Flushing', 'Red Hook',\n",
       "       'Civic Center', 'Tompkinsville', 'Tottenville', 'NoHo', 'DUMBO',\n",
       "       'Columbia St', 'Glendale', 'Mariners Harbor', 'East Elmhurst',\n",
       "       'Concord', 'Downtown Brooklyn', 'Melrose', 'Kew Gardens',\n",
       "       'College Point', 'Mount Eden', 'Vinegar Hill', 'City Island',\n",
       "       'Canarsie', 'Port Morris', 'Flatlands', 'Arverne',\n",
       "       'Queens Village', 'Midwood', 'Brownsville', 'Williamsbridge',\n",
       "       'Soundview', 'Woodhaven', 'Parkchester', 'Bronxdale',\n",
       "       'Bay Terrace', 'Ozone Park', 'Norwood', 'Rockaway Beach', 'Hollis',\n",
       "       'Claremont Village', 'Fordham', 'Concourse Village',\n",
       "       'Borough Park', 'Fieldston', 'Springfield Gardens', 'Huguenot',\n",
       "       'Mount Hope', 'Wakefield', 'Navy Yard', 'Roosevelt Island',\n",
       "       'Lighthouse Hill', 'Unionport', 'Randall Manor',\n",
       "       'South Ozone Park', 'Kew Gardens Hills', 'Jamaica Estates',\n",
       "       'Concourse', 'Bellerose', 'Fresh Meadows', 'Eastchester',\n",
       "       'Morris Park', 'Far Rockaway', 'East Morrisania', 'Corona',\n",
       "       'Tremont', 'St. Albans', 'West Brighton', 'Manhattan Beach',\n",
       "       'Marble Hill', 'Dongan Hills', 'Morris Heights', 'Belmont',\n",
       "       'Castleton Corners', 'Laurelton', 'Hunts Point', 'Howard Beach',\n",
       "       'Great Kills', 'Pelham Bay', 'Silver Lake', 'Riverdale',\n",
       "       'Morrisania', 'Grymes Hill', 'Holliswood', 'Edgemere',\n",
       "       'New Brighton', 'Pelham Gardens', 'Baychester', 'Sea Gate',\n",
       "       'Belle Harbor', 'Bergen Beach', 'Cambria Heights', 'Richmondtown',\n",
       "       'Olinville', 'Dyker Heights', 'Throgs Neck', 'Coney Island',\n",
       "       'Rosedale', 'Howland Hook', \"Prince's Bay\", 'South Beach',\n",
       "       'Bath Beach', 'Midland Beach', 'Eltingville', 'Oakwood',\n",
       "       'Schuylerville', 'Edenwald', 'North Riverdale', 'Port Richmond',\n",
       "       'Fort Wadsworth', 'Westchester Square', 'Van Nest',\n",
       "       'Arden Heights', \"Bull's Head\", 'Woodlawn', 'New Dorp', 'Neponsit',\n",
       "       'Grant City', 'Bayswater', 'Douglaston', 'New Dorp Beach',\n",
       "       'Todt Hill', 'Mill Basin', 'West Farms', 'Little Neck',\n",
       "       'Whitestone', 'Rosebank', 'Co-op City', 'Jamaica Hills',\n",
       "       'Rossville', 'Castle Hill', 'Westerleigh', 'Country Club',\n",
       "       'Chelsea, Staten Island', 'Gerritsen Beach', 'Breezy Point',\n",
       "       'Woodrow', 'Graniteville'], dtype=object)"
      ]
     },
     "execution_count": 63,
     "metadata": {},
     "output_type": "execute_result"
    }
   ],
   "source": [
    "data['neighbourhood_cleansed'].unique()"
   ]
  },
  {
   "cell_type": "code",
   "execution_count": 64,
   "metadata": {},
   "outputs": [
    {
     "data": {
      "text/plain": [
       "array(['Manhattan', 'Brooklyn', 'Queens', 'Staten Island', 'Bronx'],\n",
       "      dtype=object)"
      ]
     },
     "execution_count": 64,
     "metadata": {},
     "output_type": "execute_result"
    }
   ],
   "source": [
    "data['neighbourhood_group_cleansed'].unique()"
   ]
  },
  {
   "cell_type": "markdown",
   "metadata": {},
   "source": [
    "Great, this last one is what we want! Let's filter out all data entries that pertain to Brooklyn listings:"
   ]
  },
  {
   "cell_type": "code",
   "execution_count": 65,
   "metadata": {},
   "outputs": [
    {
     "data": {
      "text/plain": [
       "(14716, 63)"
      ]
     },
     "execution_count": 65,
     "metadata": {},
     "output_type": "execute_result"
    }
   ],
   "source": [
    "bk = data[data['neighbourhood_group_cleansed'] == 'Brooklyn']\n",
    "bk.shape"
   ]
  },
  {
   "cell_type": "markdown",
   "metadata": {},
   "source": [
    "<b>Tip</b>: to better understand what happened above, you are encouraged to insert a new code cell below and copy *just the condition* of the filter that we used on the `data` object above: `data['neighbourhood_group_cleansed'] == 'Brooklyn'`. Run the new cell and see what that condition alone evaluates to. You should see a Pandas series containing True/False values. When we use that series as a Boolean filter by writing `data[ < our Boolean series > ]`, i.e `data['neighbourhood_group_cleansed'] == 'Brooklyn']` , we are telling Pandas to keep the values in the DataFrame `data` only with those indices for which the condition evaluated to `True`. "
   ]
  },
  {
   "cell_type": "markdown",
   "metadata": {},
   "source": [
    "### i. Combining values in a column: `np.mean()`"
   ]
  },
  {
   "cell_type": "markdown",
   "metadata": {},
   "source": [
    "Now that we isolated only the relevant entries, it remains to average the value of a particular column that we care about:"
   ]
  },
  {
   "cell_type": "code",
   "execution_count": 66,
   "metadata": {},
   "outputs": [
    {
     "data": {
      "text/plain": [
       "118.7693666757271"
      ]
     },
     "execution_count": 66,
     "metadata": {},
     "output_type": "execute_result"
    }
   ],
   "source": [
    "np.mean(bk['availability_365'])"
   ]
  },
  {
   "cell_type": "markdown",
   "metadata": {},
   "source": [
    "### j. Group data by (categorical) column values: `df.groupby()`"
   ]
  },
  {
   "cell_type": "markdown",
   "metadata": {},
   "source": [
    "The next question of interest could be:<br>\n",
    "What are the top 5 most reviewed neighborhoods in New York? (By sheer number of reviews, regardless of their quality). <br>\n",
    "We will use the ```groupby``` method from the Pandas package:"
   ]
  },
  {
   "cell_type": "code",
   "execution_count": 67,
   "metadata": {},
   "outputs": [
    {
     "data": {
      "text/plain": [
       "neighbourhood_cleansed\n",
       "Allerton          1611\n",
       "Arden Heights       86\n",
       "Arrochar           867\n",
       "Arverne           3091\n",
       "Astoria          18207\n",
       "Name: number_of_reviews, dtype: int64"
      ]
     },
     "execution_count": 67,
     "metadata": {},
     "output_type": "execute_result"
    }
   ],
   "source": [
    "nbhd_reviews = data.groupby('neighbourhood_cleansed')['number_of_reviews'].sum()\n",
    "nbhd_reviews.head()"
   ]
  },
  {
   "cell_type": "markdown",
   "metadata": {},
   "source": [
    "Perform a (descending order) sorting on this series:"
   ]
  },
  {
   "cell_type": "code",
   "execution_count": 68,
   "metadata": {},
   "outputs": [
    {
     "data": {
      "text/plain": [
       "neighbourhood_cleansed\n",
       "Bedford-Stuyvesant    88133\n",
       "Williamsburg          55122\n",
       "Harlem                54824\n",
       "Bushwick              34776\n",
       "Hell's Kitchen        31308\n",
       "Name: number_of_reviews, dtype: int64"
      ]
     },
     "execution_count": 68,
     "metadata": {},
     "output_type": "execute_result"
    }
   ],
   "source": [
    "nbhd_reviews = nbhd_reviews.sort_values(ascending = False)\n",
    "nbhd_reviews.head(5)"
   ]
  },
  {
   "cell_type": "markdown",
   "metadata": {},
   "source": [
    "Success!<br>\n",
    "While we re at it, what are the least reviewed neighborhoods?"
   ]
  },
  {
   "cell_type": "code",
   "execution_count": 69,
   "metadata": {},
   "outputs": [
    {
     "data": {
      "text/plain": [
       "neighbourhood_cleansed\n",
       "Little Neck       11\n",
       "Sea Gate           9\n",
       "Graniteville       5\n",
       "Country Club       1\n",
       "Fort Wadsworth     0\n",
       "Name: number_of_reviews, dtype: int64"
      ]
     },
     "execution_count": 69,
     "metadata": {},
     "output_type": "execute_result"
    }
   ],
   "source": [
    "nbhd_reviews.tail(5)"
   ]
  },
  {
   "cell_type": "markdown",
   "metadata": {},
   "source": [
    "This result makes it apparent that our dataset is somewhat messy!"
   ]
  },
  {
   "cell_type": "markdown",
   "metadata": {},
   "source": [
    "Notice we could have chained the transformations above into a single command, as in:"
   ]
  },
  {
   "cell_type": "code",
   "execution_count": null,
   "metadata": {},
   "outputs": [],
   "source": [
    "data.groupby('neighbourhood_cleansed')['number_of_reviews'].sum().sort_values(ascending = False).head(5)"
   ]
  },
  {
   "cell_type": "markdown",
   "metadata": {},
   "source": [
    "This way we don't store objects that we won't need."
   ]
  },
  {
   "cell_type": "markdown",
   "metadata": {},
   "source": [
    "### Bonus: easy histogram plotting with Matplotlib: `plt.hist()`"
   ]
  },
  {
   "cell_type": "markdown",
   "metadata": {},
   "source": [
    "As a final touch, run the cell below to instantly visualize the density of (average!) values of review numbers across all neighbourhoods:"
   ]
  },
  {
   "cell_type": "code",
   "execution_count": null,
   "metadata": {},
   "outputs": [],
   "source": [
    "%matplotlib inline\n",
    "nbhd_reviews.hist()"
   ]
  },
  {
   "cell_type": "markdown",
   "metadata": {},
   "source": [
    "This plot suggests that the vast majority of neighborhoods have only very few reviews, with just a handful of outliers (those ranked at the top in our previous computed cell) having the number of reviews upward of 40000. "
   ]
  }
 ],
 "metadata": {
  "kernelspec": {
   "display_name": "Python 3",
   "language": "python",
   "name": "python3"
  },
  "language_info": {
   "codemirror_mode": {
    "name": "ipython",
    "version": 3
   },
   "file_extension": ".py",
   "mimetype": "text/x-python",
   "name": "python",
   "nbconvert_exporter": "python",
   "pygments_lexer": "ipython3",
   "version": "3.6.9"
  },
  "toc": {
   "base_numbering": 1,
   "nav_menu": {
    "height": "12px",
    "width": "162px"
   },
   "number_sections": false,
   "sideBar": true,
   "skip_h1_title": false,
   "title_cell": "Table of Contents",
   "title_sidebar": "Contents",
   "toc_cell": false,
   "toc_position": {},
   "toc_section_display": true,
   "toc_window_display": false
  },
  "varInspector": {
   "cols": {
    "lenName": 16,
    "lenType": 16,
    "lenVar": 40
   },
   "kernels_config": {
    "python": {
     "delete_cmd_postfix": "",
     "delete_cmd_prefix": "del ",
     "library": "var_list.py",
     "varRefreshCmd": "print(var_dic_list())"
    },
    "r": {
     "delete_cmd_postfix": ") ",
     "delete_cmd_prefix": "rm(",
     "library": "var_list.r",
     "varRefreshCmd": "cat(var_dic_list()) "
    }
   },
   "types_to_exclude": [
    "module",
    "function",
    "builtin_function_or_method",
    "instance",
    "_Feature"
   ],
   "window_display": false
  }
 },
 "nbformat": 4,
 "nbformat_minor": 2
}
